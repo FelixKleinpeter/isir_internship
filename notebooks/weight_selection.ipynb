{
 "cells": [
  {
   "cell_type": "code",
   "execution_count": 1,
   "metadata": {},
   "outputs": [],
   "source": [
    "import pickle\n",
    "import numpy as np\n",
    "import pandas as pd\n",
    "\n",
    "from matplotlib import pyplot as plt\n",
    "from functions import get_movies_scores, get_infos, get_X, get_y, data_without_v, remove_empty_variables, question_from_v\n",
    "from variable_selection_metrics import user_questions, random_questions, loop_simulation, metrics_simulations\n",
    "from metrics import random_forest, forward_feature_selection, backward_feature_elimination, random_variable_choice, variable_mean_choice"
   ]
  },
  {
   "cell_type": "code",
   "execution_count": 2,
   "metadata": {},
   "outputs": [],
   "source": [
    "%load_ext autoreload\n",
    "%autoreload 2"
   ]
  },
  {
   "cell_type": "markdown",
   "metadata": {},
   "source": [
    "# Load Data"
   ]
  },
  {
   "cell_type": "code",
   "execution_count": 3,
   "metadata": {},
   "outputs": [],
   "source": [
    "pkl = open('cleaned_movie_data.pkl','rb')\n",
    "data = pickle.load(pkl)\n",
    "pkl.close()"
   ]
  },
  {
   "cell_type": "code",
   "execution_count": 4,
   "metadata": {},
   "outputs": [],
   "source": [
    "data.drop(['occupation', 'gender', 'age'], axis=1, inplace=True)"
   ]
  },
  {
   "cell_type": "markdown",
   "metadata": {},
   "source": [
    "# Weighted variable selection\n",
    "\n",
    "- Les données sont normalisées\n",
    "- Une liste des variables est créée, initialisé avec 0.5 pour chaque variable\n",
    "- Une question est posée vis à vis d'une variable\n",
    "- En fonction de la réponse, on change la valeur de la variable dans le tableau (0.8 si oui, 0.2 si non), puis on enlève la variable dans les données\n",
    "- Une fonction va moyenner les scores des variables et les pondérer avec les scores pour renvoyer quelque chose entre 0 et 1\n",
    "- On s'arrête quand le nombre de films notés en moyenne au dessus de 0.4 devient en dessous de 10"
   ]
  },
  {
   "cell_type": "code",
   "execution_count": 101,
   "metadata": {},
   "outputs": [],
   "source": [
    "def weighted_user_questions(data, metric, display = False):\n",
    "    # Creation of the variables list\n",
    "    variables = list(data.columns)\n",
    "    for v in ['rating','item','user']:\n",
    "        variables.remove(v)\n",
    "    weights = np.full(len(variables), 0.5)\n",
    "    \n",
    "    # Create normalized data\n",
    "    normalized_data = normalize_data(data, variables)\n",
    "    \n",
    "    # Create modificable data\n",
    "    new_data = normalized_data.copy()\n",
    "    \n",
    "    # Compute averages\n",
    "    avgs = {v:np.mean(normalized_data[v]) for v in variables}\n",
    "    \n",
    "    k = 0\n",
    "\n",
    "    while k < 10 and len(get_X(new_data).columns) > 1:\n",
    "        X, y = get_X(new_data), get_y(new_data)\n",
    "        v = metric(X, y, display=display)\n",
    "        v_id = variables.index(v)\n",
    "        \n",
    "        # y_or_n = input(str(v)+\"? (y/n)\")\n",
    "        y_or_n = input(question_from_v(v, threshold=avgs[v]))\n",
    "        \n",
    "        \n",
    "        \n",
    "        if y_or_n == \"y\" or y_or_n == \"Y\" or y_or_n == \"yes\" or y_or_n == \"Yes\" :\n",
    "            weights[v_id] = 0.8\n",
    "            new_data = data_without_v(new_data, v, avgs[v], lower=False)\n",
    "        elif y_or_n == \"n\" or y_or_n == \"N\" or y_or_n == \"no\" or y_or_n == \"No\" :\n",
    "            weights[v_id] = 0.2\n",
    "            new_data = data_without_v(new_data, v, avgs[v], lower=True)\n",
    "        \n",
    "        \n",
    "        #print(weights)\n",
    "        #print(get_item_score(normalized_data.iloc[0], weights, variables, avgs))\n",
    "        \n",
    "        \n",
    "        new_data.drop([v], axis=1, inplace=True)\n",
    "        remove_empty_variables(new_data)\n",
    "        \n",
    "        k += 1\n",
    "    \n",
    "    scores = []\n",
    "    for i in range(len(norm_data)):\n",
    "        scores.append(get_item_score(normalized_data.iloc[i], weights, variables, avgs))\n",
    "    winners = norm_data.iloc[[i for i in range(len(scores)) if scores[i] > 0.58]].item.unique()\n",
    "        \n",
    "    return winners"
   ]
  },
  {
   "cell_type": "code",
   "execution_count": 102,
   "metadata": {},
   "outputs": [],
   "source": [
    "def get_item_score(item, weights, variables, avgs):\n",
    "    score = 0\n",
    "    for i, v in enumerate(variables):\n",
    "        if item[v] > avgs[v]:\n",
    "            score += weights[i]\n",
    "        else :\n",
    "            score += 1 - weights[i]\n",
    "    return score / len(variables)"
   ]
  },
  {
   "cell_type": "code",
   "execution_count": 103,
   "metadata": {},
   "outputs": [],
   "source": [
    "def normalize_data(data, variables):\n",
    "    normalized_data = data.copy()\n",
    "    for c in variables:\n",
    "        max_ = np.max(normalized_data[c])\n",
    "        min_ = np.min(normalized_data[c])\n",
    "        if max_-min_ > 0:\n",
    "            normalized_data[c] = (normalized_data[c] - min_) / (max_ - min_)\n",
    "    return normalized_data"
   ]
  },
  {
   "cell_type": "code",
   "execution_count": 104,
   "metadata": {},
   "outputs": [
    {
     "name": "stdout",
     "output_type": "stream",
     "text": [
      "Do you prefer movies more recent than y\n",
      "Do you like Drama movies? (y/n)n\n",
      "Do you like Animation movies? (y/n)n\n",
      "Do you like Romance movies? (y/n)n\n",
      "Do you like Comedy movies? (y/n)y\n",
      "Do you like Children's movies? (y/n)n\n",
      "Do you like War movies? (y/n)n\n",
      "Do you like Sci-Fi movies? (y/n)y\n",
      "Do you like Adventure movies? (y/n)n\n",
      "Do you like Action movies? (y/n)y\n"
     ]
    }
   ],
   "source": [
    "winners = weighted_user_questions(data, forward_feature_selection)"
   ]
  },
  {
   "cell_type": "code",
   "execution_count": 68,
   "metadata": {},
   "outputs": [],
   "source": [
    "variables = list(data.columns)\n",
    "for v in ['rating','item','user']:\n",
    "    variables.remove(v)\n",
    "norm_data = normalize_data(data, variables)\n",
    "avgs = {v:np.mean(norm_data[v]) for v in variables}"
   ]
  },
  {
   "cell_type": "code",
   "execution_count": 69,
   "metadata": {},
   "outputs": [],
   "source": [
    "scores = []\n",
    "for i in range(len(norm_data)):\n",
    "    scores.append(get_item_score(norm_data.iloc[i], weights, variables, avgs))"
   ]
  },
  {
   "cell_type": "code",
   "execution_count": 70,
   "metadata": {},
   "outputs": [
    {
     "data": {
      "text/plain": [
       "(array([3.2000e+01, 2.8400e+02, 6.5700e+03, 0.0000e+00, 2.2012e+04,\n",
       "        2.3482e+04, 0.0000e+00, 3.4052e+04, 1.2898e+04, 6.6100e+02]),\n",
       " array([0.37368421, 0.39578947, 0.41789474, 0.44      , 0.46210526,\n",
       "        0.48421053, 0.50631579, 0.52842105, 0.55052632, 0.57263158,\n",
       "        0.59473684]),\n",
       " <a list of 10 Patch objects>)"
      ]
     },
     "execution_count": 70,
     "metadata": {},
     "output_type": "execute_result"
    },
    {
     "data": {
      "image/png": "[encoded data removed]",
      "text/plain": [
       "<Figure size 432x288 with 1 Axes>"
      ]
     },
     "metadata": {
      "needs_background": "light"
     },
     "output_type": "display_data"
    }
   ],
   "source": [
    "plt.hist(scores)"
   ]
  },
  {
   "cell_type": "code",
   "execution_count": 96,
   "metadata": {},
   "outputs": [
    {
     "data": {
      "text/plain": [
       "array([ 242,  302,  346, ..., 1637, 1630, 1641])"
      ]
     },
     "execution_count": 96,
     "metadata": {},
     "output_type": "execute_result"
    }
   ],
   "source": [
    "winners"
   ]
  },
  {
   "cell_type": "code",
   "execution_count": null,
   "metadata": {},
   "outputs": [],
   "source": []
  }
 ],
 "metadata": {
  "kernelspec": {
   "display_name": "Python 3",
   "language": "python",
   "name": "python3"
  },
  "language_info": {
   "codemirror_mode": {
    "name": "ipython",
    "version": 3
   },
   "file_extension": ".py",
   "mimetype": "text/x-python",
   "name": "python",
   "nbconvert_exporter": "python",
   "pygments_lexer": "ipython3",
   "version": "3.7.6"
  }
 },
 "nbformat": 4,
 "nbformat_minor": 4
}

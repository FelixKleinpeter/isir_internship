{
 "cells": [
  {
   "cell_type": "code",
   "execution_count": 1,
   "metadata": {},
   "outputs": [],
   "source": [
    "import pickle\n",
    "import numpy as np\n",
    "import pandas as pd\n",
    "import warnings\n",
    "\n",
    "import seaborn as sns\n",
    "from matplotlib import pyplot as plt\n",
    "from sklearn import preprocessing\n",
    "from sklearn.metrics import confusion_matrix\n",
    "from sklearn.metrics import mean_squared_error\n",
    "from sklearn.model_selection import StratifiedKFold\n",
    "\n",
    "warnings.filterwarnings('ignore')"
   ]
  },
  {
   "cell_type": "code",
   "execution_count": null,
   "metadata": {},
   "outputs": [],
   "source": [
    "#from lenskit.datasets import ML100K"
   ]
  },
  {
   "cell_type": "markdown",
   "metadata": {},
   "source": [
    "# Load Data"
   ]
  },
  {
   "cell_type": "code",
   "execution_count": 2,
   "metadata": {},
   "outputs": [],
   "source": [
    "pkl = open('movie_datas.pkl','rb')\n",
    "read_datas = pickle.load(pkl)\n",
    "pkl.close()"
   ]
  },
  {
   "cell_type": "code",
   "execution_count": 3,
   "metadata": {},
   "outputs": [],
   "source": [
    "data = read_datas[['user','item','rating','timestamp', 'age', 'gender', 'occupation','zip', 'release', 'Action','Adventure', 'Animation', 'Children\\'s', 'Comedy', 'Crime','Documentary', 'Drama', 'Fantasy', 'Film-Noir', 'Horror', 'Musical','Mystery', 'Romance', 'Sci-Fi', 'Thriller', 'War', 'Western']]"
   ]
  },
  {
   "cell_type": "markdown",
   "metadata": {},
   "source": [
    "# Cleaning"
   ]
  },
  {
   "cell_type": "code",
   "execution_count": 4,
   "metadata": {},
   "outputs": [],
   "source": [
    "data.drop(['timestamp', 'zip'], axis=1, inplace=True)"
   ]
  },
  {
   "cell_type": "code",
   "execution_count": 5,
   "metadata": {},
   "outputs": [],
   "source": [
    "le_gender = preprocessing.LabelEncoder()\n",
    "le_gender.fit(data.loc[:, 'gender'])\n",
    "data['gender'] = le_gender.transform(data['gender'])\n",
    "\n",
    "le_occupation = preprocessing.LabelEncoder()\n",
    "le_occupation.fit(data.loc[:, 'occupation'])\n",
    "data['occupation'] = le_occupation.transform(data['occupation'])"
   ]
  },
  {
   "cell_type": "code",
   "execution_count": 6,
   "metadata": {},
   "outputs": [],
   "source": [
    "data = data[data.item != 267]\n",
    "data = data.reset_index()"
   ]
  },
  {
   "cell_type": "code",
   "execution_count": 7,
   "metadata": {},
   "outputs": [],
   "source": [
    "d = data.copy()\n",
    "for i in range(data.release.size):\n",
    "    s = str(data.release[i])\n",
    "    try:\n",
    "        d.release[i] = int(s[-4:])\n",
    "    except:\n",
    "        d.release[i] = np.nan"
   ]
  },
  {
   "cell_type": "code",
   "execution_count": 8,
   "metadata": {},
   "outputs": [],
   "source": [
    "data = d.copy()"
   ]
  },
  {
   "cell_type": "code",
   "execution_count": 9,
   "metadata": {},
   "outputs": [],
   "source": [
    "data.release = data.release.astype(\"int\")"
   ]
  },
  {
   "cell_type": "code",
   "execution_count": 10,
   "metadata": {},
   "outputs": [],
   "source": [
    "data.drop(['index'], axis=1, inplace=True)"
   ]
  },
  {
   "cell_type": "code",
   "execution_count": 11,
   "metadata": {},
   "outputs": [
    {
     "data": {
      "text/html": [
       "<div>\n",
       "<style scoped>\n",
       "    .dataframe tbody tr th:only-of-type {\n",
       "        vertical-align: middle;\n",
       "    }\n",
       "\n",
       "    .dataframe tbody tr th {\n",
       "        vertical-align: top;\n",
       "    }\n",
       "\n",
       "    .dataframe thead th {\n",
       "        text-align: right;\n",
       "    }\n",
       "</style>\n",
       "<table border=\"1\" class=\"dataframe\">\n",
       "  <thead>\n",
       "    <tr style=\"text-align: right;\">\n",
       "      <th></th>\n",
       "      <th>user</th>\n",
       "      <th>item</th>\n",
       "      <th>rating</th>\n",
       "      <th>age</th>\n",
       "      <th>gender</th>\n",
       "      <th>occupation</th>\n",
       "      <th>release</th>\n",
       "      <th>Action</th>\n",
       "      <th>Adventure</th>\n",
       "      <th>Animation</th>\n",
       "      <th>...</th>\n",
       "      <th>Fantasy</th>\n",
       "      <th>Film-Noir</th>\n",
       "      <th>Horror</th>\n",
       "      <th>Musical</th>\n",
       "      <th>Mystery</th>\n",
       "      <th>Romance</th>\n",
       "      <th>Sci-Fi</th>\n",
       "      <th>Thriller</th>\n",
       "      <th>War</th>\n",
       "      <th>Western</th>\n",
       "    </tr>\n",
       "  </thead>\n",
       "  <tbody>\n",
       "    <tr>\n",
       "      <th>0</th>\n",
       "      <td>196</td>\n",
       "      <td>242</td>\n",
       "      <td>3.0</td>\n",
       "      <td>49</td>\n",
       "      <td>1</td>\n",
       "      <td>20</td>\n",
       "      <td>1997</td>\n",
       "      <td>0</td>\n",
       "      <td>0</td>\n",
       "      <td>0</td>\n",
       "      <td>...</td>\n",
       "      <td>0</td>\n",
       "      <td>0</td>\n",
       "      <td>0</td>\n",
       "      <td>0</td>\n",
       "      <td>0</td>\n",
       "      <td>0</td>\n",
       "      <td>0</td>\n",
       "      <td>0</td>\n",
       "      <td>0</td>\n",
       "      <td>0</td>\n",
       "    </tr>\n",
       "    <tr>\n",
       "      <th>1</th>\n",
       "      <td>186</td>\n",
       "      <td>302</td>\n",
       "      <td>3.0</td>\n",
       "      <td>39</td>\n",
       "      <td>0</td>\n",
       "      <td>6</td>\n",
       "      <td>1997</td>\n",
       "      <td>0</td>\n",
       "      <td>0</td>\n",
       "      <td>0</td>\n",
       "      <td>...</td>\n",
       "      <td>0</td>\n",
       "      <td>1</td>\n",
       "      <td>0</td>\n",
       "      <td>0</td>\n",
       "      <td>1</td>\n",
       "      <td>0</td>\n",
       "      <td>0</td>\n",
       "      <td>1</td>\n",
       "      <td>0</td>\n",
       "      <td>0</td>\n",
       "    </tr>\n",
       "    <tr>\n",
       "      <th>2</th>\n",
       "      <td>22</td>\n",
       "      <td>377</td>\n",
       "      <td>1.0</td>\n",
       "      <td>25</td>\n",
       "      <td>1</td>\n",
       "      <td>20</td>\n",
       "      <td>1994</td>\n",
       "      <td>0</td>\n",
       "      <td>0</td>\n",
       "      <td>0</td>\n",
       "      <td>...</td>\n",
       "      <td>0</td>\n",
       "      <td>0</td>\n",
       "      <td>0</td>\n",
       "      <td>0</td>\n",
       "      <td>0</td>\n",
       "      <td>0</td>\n",
       "      <td>0</td>\n",
       "      <td>0</td>\n",
       "      <td>0</td>\n",
       "      <td>0</td>\n",
       "    </tr>\n",
       "    <tr>\n",
       "      <th>3</th>\n",
       "      <td>244</td>\n",
       "      <td>51</td>\n",
       "      <td>2.0</td>\n",
       "      <td>28</td>\n",
       "      <td>1</td>\n",
       "      <td>19</td>\n",
       "      <td>1994</td>\n",
       "      <td>0</td>\n",
       "      <td>0</td>\n",
       "      <td>0</td>\n",
       "      <td>...</td>\n",
       "      <td>0</td>\n",
       "      <td>0</td>\n",
       "      <td>0</td>\n",
       "      <td>0</td>\n",
       "      <td>0</td>\n",
       "      <td>1</td>\n",
       "      <td>0</td>\n",
       "      <td>0</td>\n",
       "      <td>1</td>\n",
       "      <td>1</td>\n",
       "    </tr>\n",
       "    <tr>\n",
       "      <th>4</th>\n",
       "      <td>166</td>\n",
       "      <td>346</td>\n",
       "      <td>1.0</td>\n",
       "      <td>47</td>\n",
       "      <td>1</td>\n",
       "      <td>3</td>\n",
       "      <td>1997</td>\n",
       "      <td>0</td>\n",
       "      <td>0</td>\n",
       "      <td>0</td>\n",
       "      <td>...</td>\n",
       "      <td>0</td>\n",
       "      <td>0</td>\n",
       "      <td>0</td>\n",
       "      <td>0</td>\n",
       "      <td>0</td>\n",
       "      <td>0</td>\n",
       "      <td>0</td>\n",
       "      <td>0</td>\n",
       "      <td>0</td>\n",
       "      <td>0</td>\n",
       "    </tr>\n",
       "  </tbody>\n",
       "</table>\n",
       "<p>5 rows × 25 columns</p>\n",
       "</div>"
      ],
      "text/plain": [
       "   user  item  rating  age  gender  occupation  release  Action  Adventure  \\\n",
       "0   196   242     3.0   49       1          20     1997       0          0   \n",
       "1   186   302     3.0   39       0           6     1997       0          0   \n",
       "2    22   377     1.0   25       1          20     1994       0          0   \n",
       "3   244    51     2.0   28       1          19     1994       0          0   \n",
       "4   166   346     1.0   47       1           3     1997       0          0   \n",
       "\n",
       "   Animation  ...  Fantasy  Film-Noir  Horror  Musical  Mystery  Romance  \\\n",
       "0          0  ...        0          0       0        0        0        0   \n",
       "1          0  ...        0          1       0        0        1        0   \n",
       "2          0  ...        0          0       0        0        0        0   \n",
       "3          0  ...        0          0       0        0        0        1   \n",
       "4          0  ...        0          0       0        0        0        0   \n",
       "\n",
       "   Sci-Fi  Thriller  War  Western  \n",
       "0       0         0    0        0  \n",
       "1       0         1    0        0  \n",
       "2       0         0    0        0  \n",
       "3       0         0    1        1  \n",
       "4       0         0    0        0  \n",
       "\n",
       "[5 rows x 25 columns]"
      ]
     },
     "execution_count": 11,
     "metadata": {},
     "output_type": "execute_result"
    }
   ],
   "source": [
    "data.head()"
   ]
  },
  {
   "cell_type": "markdown",
   "metadata": {},
   "source": [
    "# Creating clean data"
   ]
  },
  {
   "cell_type": "code",
   "execution_count": 12,
   "metadata": {},
   "outputs": [],
   "source": [
    "filename = 'cleaned_movie_data.pkl'\n",
    "outfile = open(filename,'wb')"
   ]
  },
  {
   "cell_type": "code",
   "execution_count": 13,
   "metadata": {},
   "outputs": [],
   "source": [
    "pickle.dump(data,outfile)\n",
    "outfile.close()"
   ]
  },
  {
   "cell_type": "markdown",
   "metadata": {},
   "source": [
    "# Random Forest"
   ]
  },
  {
   "cell_type": "code",
   "execution_count": 15,
   "metadata": {},
   "outputs": [],
   "source": [
    "from sklearn.ensemble import RandomForestClassifier"
   ]
  },
  {
   "cell_type": "code",
   "execution_count": 16,
   "metadata": {},
   "outputs": [],
   "source": [
    "X = data.copy()\n",
    "X.drop(['rating','item','occupation','user'], axis=1, inplace=True)"
   ]
  },
  {
   "cell_type": "code",
   "execution_count": 17,
   "metadata": {},
   "outputs": [],
   "source": [
    "y_ = data.rating.copy()\n",
    "y__ = [round(e) for e in y_]\n",
    "y = [0 if e < 4 else 1 for e in y__]"
   ]
  },
  {
   "cell_type": "code",
   "execution_count": 18,
   "metadata": {},
   "outputs": [],
   "source": [
    "X_train, X_test = X.iloc[:80000], X.iloc[80000:]\n",
    "y_train, y_test = y[:80000], y[80000:]"
   ]
  },
  {
   "cell_type": "code",
   "execution_count": 19,
   "metadata": {},
   "outputs": [
    {
     "data": {
      "text/plain": [
       "RandomForestClassifier(max_depth=7, random_state=0)"
      ]
     },
     "execution_count": 19,
     "metadata": {},
     "output_type": "execute_result"
    }
   ],
   "source": [
    "clf = RandomForestClassifier(max_depth=7, random_state=0)\n",
    "clf.fit(X_train, y_train)"
   ]
  },
  {
   "cell_type": "code",
   "execution_count": 20,
   "metadata": {},
   "outputs": [],
   "source": [
    "prediction = clf.predict(X_test)"
   ]
  },
  {
   "cell_type": "code",
   "execution_count": 21,
   "metadata": {},
   "outputs": [
    {
     "data": {
      "text/plain": [
       "<matplotlib.axes._subplots.AxesSubplot at 0x227b104a1d0>"
      ]
     },
     "execution_count": 21,
     "metadata": {},
     "output_type": "execute_result"
    },
    {
     "data": {
      "image/png": "[encoded data removed]",
      "text/plain": [
       "<Figure size 720x360 with 2 Axes>"
      ]
     },
     "metadata": {
      "needs_background": "light"
     },
     "output_type": "display_data"
    }
   ],
   "source": [
    "df_cm = pd.DataFrame(confusion_matrix(y_test, prediction))\n",
    "df_cm.index.name = 'True value'\n",
    "df_cm.columns.name = 'Prediction'\n",
    "plt.figure(figsize=(10, 5))\n",
    "plt.title('Confusion matrix (lgbm)', fontsize=16)\n",
    "sns.heatmap(df_cm, annot=True, cmap=\"YlGnBu\")"
   ]
  },
  {
   "cell_type": "code",
   "execution_count": 22,
   "metadata": {},
   "outputs": [
    {
     "data": {
      "image/png": "[encoded data removed]",
      "text/plain": [
       "<Figure size 432x288 with 1 Axes>"
      ]
     },
     "metadata": {
      "needs_background": "light"
     },
     "output_type": "display_data"
    }
   ],
   "source": [
    "fig, ax = plt.subplots()\n",
    "ax.barh(np.arange(clf.n_features_), clf.feature_importances_, align='center')\n",
    "ax.set_yticks(np.arange(clf.n_features_))\n",
    "ax.set_yticklabels(X_test.columns)\n",
    "ax.set_xlabel('Performance')\n",
    "\n",
    "plt.show()"
   ]
  },
  {
   "cell_type": "code",
   "execution_count": 23,
   "metadata": {},
   "outputs": [],
   "source": [
    "def plt_bar(data, clf):\n",
    "    fig, ax = plt.subplots()\n",
    "    ax.barh(np.arange(clf.n_features_), clf.feature_importances_, align='center')\n",
    "    ax.set_yticks(np.arange(clf.n_features_))\n",
    "    ax.set_yticklabels(data.columns)\n",
    "    ax.set_xlabel('Performance')\n",
    "\n",
    "    plt.show()"
   ]
  },
  {
   "cell_type": "markdown",
   "metadata": {},
   "source": [
    "# Dialog\n",
    "\n",
    "- Trouver la variable la plus déterminante\n",
    "- Poser la question concernant cette variable (variables quantitatives?)\n",
    "- Récupérer la réponse\n",
    "- Récupérer l'ensemble de datas restant correspondant à la réponse\n",
    "- Réitérer jusqu'à obtenir convergence / 7 coups\n",
    "- Choisir un/des film parmi ceux qui restent (ceux avec la meilleure moyenne sur les datas telles qu'elles sont par exemple"
   ]
  },
  {
   "cell_type": "code",
   "execution_count": 24,
   "metadata": {},
   "outputs": [],
   "source": [
    "def most_important_feature(X, y, max_depth=7):\n",
    "    clf = RandomForestClassifier(max_depth=max_depth, random_state=0)\n",
    "    clf.fit(X, y)\n",
    "    v = X.columns[np.argmax(clf.feature_importances_)]\n",
    "    return clf, v\n",
    "    \n",
    "def question_from_v(variable, question_dict, threshold=0):\n",
    "    if len(question_dict[variable]) == 0:\n",
    "        return \"Do you like \" + variable + \" movies? (y/n)\"\n",
    "    if threshold <= 1:\n",
    "        return question_dict[variable]\n",
    "    return question_dict[variable] + str(threshold) + \"? (y/n)\"\n",
    "    \n",
    "def data_without_v(data, variable, value, lower=True):\n",
    "    d = data.copy()\n",
    "    if lower:\n",
    "        d = d[d[variable] < value]\n",
    "    else:\n",
    "        d = d[d[variable] > value]\n",
    "    return d\n",
    "\n",
    "def get_X(data):\n",
    "    X = data.copy()\n",
    "    X.drop(['rating','item','user'], axis=1, inplace=True)\n",
    "    return X\n",
    "\n",
    "def get_y(data):\n",
    "    y_ = data.rating.copy()\n",
    "    y__ = [round(e) for e in y_]\n",
    "    y = [0 if e < 4 else 1 for e in y__]\n",
    "    return y\n",
    "\n",
    "def get_item_names(movies, items):\n",
    "    names = []\n",
    "    for i in items:\n",
    "        names.append(movies.iloc[i-1].title)\n",
    "    return names"
   ]
  },
  {
   "cell_type": "code",
   "execution_count": 25,
   "metadata": {},
   "outputs": [],
   "source": [
    "def get_movies_scores(data):\n",
    "    scores_data = {\n",
    "        \"item\" : data.item.unique(),\n",
    "        \"score\" : [np.mean(data[data.item == item].rating) for item in data.item.unique()]\n",
    "    }\n",
    "    movies_scores = pd.DataFrame(scores_data, columns = ['item','score'])\n",
    "    movies_scores = movies_scores.sort_values(by=\"score\",ascending=False)\n",
    "    return movies_scores"
   ]
  },
  {
   "cell_type": "code",
   "execution_count": 48,
   "metadata": {},
   "outputs": [],
   "source": [
    "def remove_empty_variables(data):\n",
    "    for v in data.columns:\n",
    "        avg = np.mean(data[v])\n",
    "        if data[data[v] > avg].size == 0 or data[data[v] <= avg].size == 0 :\n",
    "            data.drop([v], axis=1, inplace=True)"
   ]
  },
  {
   "cell_type": "code",
   "execution_count": 49,
   "metadata": {},
   "outputs": [],
   "source": [
    "question_dict = {\n",
    "    'release' : \"Do you prefer movies more recent than \",\n",
    "    'age' : \"Are you older than \",\n",
    "    'gender' : \"Are you a man? (y/n)\",\n",
    "    'Action' : \"\",\n",
    "    'Adventure' : \"\",\n",
    "    'Animation' : \"\",\n",
    "    'Children\\'s' : \"\",\n",
    "    'Comedy' : \"\",\n",
    "    'Crime' : \"\",\n",
    "    'Documentary' : \"\",\n",
    "    'Drama' : \"\",\n",
    "    'Fantasy' : \"\",\n",
    "    'Film-Noir' : \"\",\n",
    "    'Horror' : \"\",\n",
    "    'Musical' : \"\",\n",
    "    'Mystery' : \"\",\n",
    "    'Romance' : \"\",\n",
    "    'Sci-Fi' : \"\",\n",
    "    'Thriller' : \"\",\n",
    "    'War' : \"\",\n",
    "    'Western' : \"\",\n",
    "}"
   ]
  },
  {
   "cell_type": "code",
   "execution_count": 64,
   "metadata": {},
   "outputs": [],
   "source": [
    "#data.drop(['age', 'gender','occupation'], axis=1, inplace=True)"
   ]
  },
  {
   "cell_type": "code",
   "execution_count": 73,
   "metadata": {},
   "outputs": [],
   "source": [
    "def random_questions(data):\n",
    "    new_data = data.copy()\n",
    "    while new_data.item.unique().size > 10:\n",
    "        #remove_empty_variables(data)\n",
    "        X, y = get_X(new_data), get_y(new_data)\n",
    "        clf, v = most_important_feature(X, y, max_depth=7)\n",
    "        #plt_bar(X, clf)\n",
    "        avg = np.mean(new_data[v])\n",
    "        lower = False\n",
    "        middle = (avg) / (0.01 + np.max(new_data[v]) - np.min(new_data[v]))\n",
    "        if np.random.rand() < middle:\n",
    "            lower = True\n",
    "        new_data = data_without_v(new_data, v, avg, lower=lower)\n",
    "        new_data.drop([v], axis=1, inplace=True)\n",
    "    return new_data.item.unique()"
   ]
  },
  {
   "cell_type": "code",
   "execution_count": 79,
   "metadata": {},
   "outputs": [],
   "source": [
    "amount_found = np.zeros(data.item.unique().size)"
   ]
  },
  {
   "cell_type": "code",
   "execution_count": 80,
   "metadata": {},
   "outputs": [
    {
     "name": "stdout",
     "output_type": "stream",
     "text": [
      "k = 0\n",
      "k = 5\n",
      "k = 10\n",
      "k = 15\n",
      "k = 20\n",
      "k = 25\n",
      "k = 30\n",
      "k = 35\n",
      "k = 40\n",
      "k = 45\n",
      "k = 50\n",
      "k = 55\n",
      "k = 60\n",
      "k = 65\n",
      "k = 70\n",
      "k = 75\n",
      "k = 80\n",
      "k = 85\n",
      "k = 90\n",
      "k = 95\n"
     ]
    }
   ],
   "source": [
    "for k in range(100):\n",
    "    item_found = random_questions(data)\n",
    "    for i in item_found:\n",
    "        amount_found[i-1] += 1\n",
    "    if len(item_found) == 0:\n",
    "        print(\"0 trouvé\")\n",
    "    if k % 5 == 0:\n",
    "        print(\"k = \" + str(k))"
   ]
  },
  {
   "cell_type": "code",
   "execution_count": 82,
   "metadata": {},
   "outputs": [
    {
     "data": {
      "text/plain": [
       "(array([1661.,   12.,    0.,    0.,    0.,    0.,    0.,    0.,    0.,\n",
       "           8.]),\n",
       " array([ 0. ,  7.1, 14.2, 21.3, 28.4, 35.5, 42.6, 49.7, 56.8, 63.9, 71. ]),\n",
       " <a list of 10 Patch objects>)"
      ]
     },
     "execution_count": 82,
     "metadata": {},
     "output_type": "execute_result"
    },
    {
     "data": {
      "image/png": "[encoded data removed]",
      "text/plain": [
       "<Figure size 432x288 with 1 Axes>"
      ]
     },
     "metadata": {
      "needs_background": "light"
     },
     "output_type": "display_data"
    }
   ],
   "source": [
    "plt.hist(amount_found)"
   ]
  },
  {
   "cell_type": "code",
   "execution_count": 86,
   "metadata": {},
   "outputs": [
    {
     "data": {
      "text/plain": [
       "131"
      ]
     },
     "execution_count": 86,
     "metadata": {},
     "output_type": "execute_result"
    }
   ],
   "source": [
    "np.argmax(amount_found)"
   ]
  },
  {
   "cell_type": "code",
   "execution_count": 14,
   "metadata": {},
   "outputs": [
    {
     "ename": "NameError",
     "evalue": "name 'movies' is not defined",
     "output_type": "error",
     "traceback": [
      "\u001b[1;31m---------------------------------------------------------------------------\u001b[0m",
      "\u001b[1;31mNameError\u001b[0m                                 Traceback (most recent call last)",
      "\u001b[1;32m<ipython-input-14-85923a322266>\u001b[0m in \u001b[0;36m<module>\u001b[1;34m\u001b[0m\n\u001b[1;32m----> 1\u001b[1;33m \u001b[0mmovies\u001b[0m\u001b[1;33m.\u001b[0m\u001b[0miloc\u001b[0m\u001b[1;33m[\u001b[0m\u001b[1;36m171\u001b[0m\u001b[1;33m]\u001b[0m\u001b[1;33m\u001b[0m\u001b[1;33m\u001b[0m\u001b[0m\n\u001b[0m",
      "\u001b[1;31mNameError\u001b[0m: name 'movies' is not defined"
     ]
    }
   ],
   "source": [
    "movies.iloc[171]"
   ]
  },
  {
   "cell_type": "code",
   "execution_count": 83,
   "metadata": {},
   "outputs": [
    {
     "data": {
      "text/plain": [
       "723.0"
      ]
     },
     "execution_count": 83,
     "metadata": {},
     "output_type": "execute_result"
    }
   ],
   "source": [
    "amount_found.sum()"
   ]
  },
  {
   "cell_type": "code",
   "execution_count": 84,
   "metadata": {},
   "outputs": [],
   "source": [
    "random_found = np.zeros(data.item.unique().size)\n",
    "\n",
    "for k in range(int(amount_found.sum())):\n",
    "    random_found[np.random.randint(0,data.item.unique().size-1)] += 1"
   ]
  },
  {
   "cell_type": "code",
   "execution_count": 85,
   "metadata": {},
   "outputs": [
    {
     "data": {
      "text/plain": [
       "(array([1086.,    0.,    0.,  479.,    0.,    0.,  104.,    0.,    0.,\n",
       "          12.]),\n",
       " array([0. , 0.3, 0.6, 0.9, 1.2, 1.5, 1.8, 2.1, 2.4, 2.7, 3. ]),\n",
       " <a list of 10 Patch objects>)"
      ]
     },
     "execution_count": 85,
     "metadata": {},
     "output_type": "execute_result"
    },
    {
     "data": {
      "image/png": "[encoded data removed]",
      "text/plain": [
       "<Figure size 432x288 with 1 Axes>"
      ]
     },
     "metadata": {
      "needs_background": "light"
     },
     "output_type": "display_data"
    }
   ],
   "source": [
    "plt.hist(random_found)"
   ]
  },
  {
   "cell_type": "code",
   "execution_count": 35,
   "metadata": {},
   "outputs": [],
   "source": [
    "def get_infos(array):\n",
    "    print(\"mean : \" + str(np.mean(array)) + \"\\nstd : \" + str(np.std(array)) + \"\\nmax : \" + str(np.max(array)))"
   ]
  },
  {
   "cell_type": "code",
   "execution_count": 36,
   "metadata": {},
   "outputs": [
    {
     "name": "stdout",
     "output_type": "stream",
     "text": [
      "mean : 0.02795954788816181\n",
      "std : 0.16485694274143078\n",
      "max : 1.0\n"
     ]
    }
   ],
   "source": [
    "get_infos(random_found)"
   ]
  },
  {
   "cell_type": "code",
   "execution_count": 37,
   "metadata": {},
   "outputs": [
    {
     "name": "stdout",
     "output_type": "stream",
     "text": [
      "mean : 0.02795954788816181\n",
      "std : 0.1884308561163428\n",
      "max : 2.0\n"
     ]
    }
   ],
   "source": [
    "get_infos(amount_found)"
   ]
  },
  {
   "cell_type": "markdown",
   "metadata": {},
   "source": [
    "## Pour Aujourd'hui\n",
    "\n",
    "- Faire le dico de questions\n",
    "- Faire une fonction qui donne les solutions\n",
    "- Faire le processus complet interactif\n",
    "- Compter lesquels tombent le plus souvent\n",
    "- Ajouter un option \"indifférent\" qui supprime la variable de la base"
   ]
  },
  {
   "cell_type": "code",
   "execution_count": 60,
   "metadata": {
    "scrolled": false
   },
   "outputs": [
    {
     "data": {
      "image/png": "[encoded data removed]",
      "text/plain": [
       "<Figure size 432x288 with 1 Axes>"
      ]
     },
     "metadata": {
      "needs_background": "light"
     },
     "output_type": "display_data"
    },
    {
     "name": "stdout",
     "output_type": "stream",
     "text": [
      "Do you prefer movies more recent than 1987? (y/n)y\n",
      "1374\n"
     ]
    },
    {
     "data": {
      "image/png": "[encoded data removed]",
      "text/plain": [
       "<Figure size 432x288 with 1 Axes>"
      ]
     },
     "metadata": {
      "needs_background": "light"
     },
     "output_type": "display_data"
    },
    {
     "name": "stdout",
     "output_type": "stream",
     "text": [
      "Do you like Drama movies? (y/n)y\n",
      "614\n"
     ]
    },
    {
     "data": {
      "image/png": "[encoded data removed]",
      "text/plain": [
       "<Figure size 432x288 with 1 Axes>"
      ]
     },
     "metadata": {
      "needs_background": "light"
     },
     "output_type": "display_data"
    },
    {
     "name": "stdout",
     "output_type": "stream",
     "text": [
      "Do you like Horror movies? (y/n)y\n",
      "5\n"
     ]
    }
   ],
   "source": [
    "new_data = data.copy()\n",
    "\n",
    "while new_data.item.unique().size > 10 and len(new_data.columns) > 1:\n",
    "    remove_empty_variables(data)\n",
    "    \n",
    "    X, y = get_X(new_data), get_y(new_data)\n",
    "    clf, v = most_important_feature(X, y, max_depth=7)\n",
    "    plt_bar(X, clf)\n",
    "    avg = np.mean(X[v])\n",
    "    if avg > 1:\n",
    "        avg = int(avg)\n",
    "    y_or_n = input(question_from_v(v, question_dict, threshold=avg))\n",
    "    if y_or_n == \"y\" or y_or_n == \"Y\" or y_or_n == \"yes\" or y_or_n == \"Yes\" :\n",
    "        new_data = data_without_v(new_data, v, avg, lower=False)\n",
    "    elif y_or_n == \"n\" or y_or_n == \"N\" or y_or_n == \"no\" or y_or_n == \"No\" :\n",
    "        new_data = data_without_v(new_data, v, avg, lower=True)\n",
    "    new_data.drop([v], axis=1, inplace=True)\n",
    "    \n",
    "    print(new_data.item.unique().size)"
   ]
  },
  {
   "cell_type": "code",
   "execution_count": 59,
   "metadata": {},
   "outputs": [
    {
     "data": {
      "text/plain": [
       "['Dances with Wolves (1990)',\n",
       " 'Batman (1989)',\n",
       " 'White Squall (1996)',\n",
       " 'War, The (1994)',\n",
       " 'First Knight (1995)',\n",
       " 'Free Willy (1993)',\n",
       " 'Buddy (1997)',\n",
       " 'Free Willy 2: The Adventure Home (1995)',\n",
       " 'Free Willy 3: The Rescue (1997)']"
      ]
     },
     "execution_count": 59,
     "metadata": {},
     "output_type": "execute_result"
    }
   ],
   "source": [
    "movies_scores = get_movies_scores(new_data)\n",
    "get_item_names(movies, movies_scores.item)"
   ]
  },
  {
   "cell_type": "code",
   "execution_count": 59,
   "metadata": {},
   "outputs": [
    {
     "data": {
      "text/html": [
       "<div>\n",
       "<style scoped>\n",
       "    .dataframe tbody tr th:only-of-type {\n",
       "        vertical-align: middle;\n",
       "    }\n",
       "\n",
       "    .dataframe tbody tr th {\n",
       "        vertical-align: top;\n",
       "    }\n",
       "\n",
       "    .dataframe thead th {\n",
       "        text-align: right;\n",
       "    }\n",
       "</style>\n",
       "<table border=\"1\" class=\"dataframe\">\n",
       "  <thead>\n",
       "    <tr style=\"text-align: right;\">\n",
       "      <th></th>\n",
       "      <th>user</th>\n",
       "      <th>item</th>\n",
       "      <th>rating</th>\n",
       "      <th>Action</th>\n",
       "      <th>Animation</th>\n",
       "      <th>Children's</th>\n",
       "      <th>Comedy</th>\n",
       "      <th>Crime</th>\n",
       "      <th>Documentary</th>\n",
       "      <th>Fantasy</th>\n",
       "      <th>Film-Noir</th>\n",
       "      <th>Mystery</th>\n",
       "      <th>Romance</th>\n",
       "      <th>Sci-Fi</th>\n",
       "      <th>Thriller</th>\n",
       "      <th>Western</th>\n",
       "    </tr>\n",
       "  </thead>\n",
       "  <tbody>\n",
       "    <tr>\n",
       "      <th>107</th>\n",
       "      <td>271</td>\n",
       "      <td>132</td>\n",
       "      <td>5.0</td>\n",
       "      <td>0</td>\n",
       "      <td>0</td>\n",
       "      <td>1</td>\n",
       "      <td>0</td>\n",
       "      <td>0</td>\n",
       "      <td>0</td>\n",
       "      <td>0</td>\n",
       "      <td>0</td>\n",
       "      <td>0</td>\n",
       "      <td>0</td>\n",
       "      <td>0</td>\n",
       "      <td>0</td>\n",
       "      <td>0</td>\n",
       "    </tr>\n",
       "    <tr>\n",
       "      <th>569</th>\n",
       "      <td>288</td>\n",
       "      <td>132</td>\n",
       "      <td>3.0</td>\n",
       "      <td>0</td>\n",
       "      <td>0</td>\n",
       "      <td>1</td>\n",
       "      <td>0</td>\n",
       "      <td>0</td>\n",
       "      <td>0</td>\n",
       "      <td>0</td>\n",
       "      <td>0</td>\n",
       "      <td>0</td>\n",
       "      <td>0</td>\n",
       "      <td>0</td>\n",
       "      <td>0</td>\n",
       "      <td>0</td>\n",
       "    </tr>\n",
       "    <tr>\n",
       "      <th>1503</th>\n",
       "      <td>290</td>\n",
       "      <td>132</td>\n",
       "      <td>3.0</td>\n",
       "      <td>0</td>\n",
       "      <td>0</td>\n",
       "      <td>1</td>\n",
       "      <td>0</td>\n",
       "      <td>0</td>\n",
       "      <td>0</td>\n",
       "      <td>0</td>\n",
       "      <td>0</td>\n",
       "      <td>0</td>\n",
       "      <td>0</td>\n",
       "      <td>0</td>\n",
       "      <td>0</td>\n",
       "      <td>0</td>\n",
       "    </tr>\n",
       "    <tr>\n",
       "      <th>1694</th>\n",
       "      <td>293</td>\n",
       "      <td>132</td>\n",
       "      <td>4.0</td>\n",
       "      <td>0</td>\n",
       "      <td>0</td>\n",
       "      <td>1</td>\n",
       "      <td>0</td>\n",
       "      <td>0</td>\n",
       "      <td>0</td>\n",
       "      <td>0</td>\n",
       "      <td>0</td>\n",
       "      <td>0</td>\n",
       "      <td>0</td>\n",
       "      <td>0</td>\n",
       "      <td>0</td>\n",
       "      <td>0</td>\n",
       "    </tr>\n",
       "    <tr>\n",
       "      <th>1695</th>\n",
       "      <td>62</td>\n",
       "      <td>132</td>\n",
       "      <td>5.0</td>\n",
       "      <td>0</td>\n",
       "      <td>0</td>\n",
       "      <td>1</td>\n",
       "      <td>0</td>\n",
       "      <td>0</td>\n",
       "      <td>0</td>\n",
       "      <td>0</td>\n",
       "      <td>0</td>\n",
       "      <td>0</td>\n",
       "      <td>0</td>\n",
       "      <td>0</td>\n",
       "      <td>0</td>\n",
       "      <td>0</td>\n",
       "    </tr>\n",
       "    <tr>\n",
       "      <th>...</th>\n",
       "      <td>...</td>\n",
       "      <td>...</td>\n",
       "      <td>...</td>\n",
       "      <td>...</td>\n",
       "      <td>...</td>\n",
       "      <td>...</td>\n",
       "      <td>...</td>\n",
       "      <td>...</td>\n",
       "      <td>...</td>\n",
       "      <td>...</td>\n",
       "      <td>...</td>\n",
       "      <td>...</td>\n",
       "      <td>...</td>\n",
       "      <td>...</td>\n",
       "      <td>...</td>\n",
       "      <td>...</td>\n",
       "    </tr>\n",
       "    <tr>\n",
       "      <th>98839</th>\n",
       "      <td>716</td>\n",
       "      <td>132</td>\n",
       "      <td>5.0</td>\n",
       "      <td>0</td>\n",
       "      <td>0</td>\n",
       "      <td>1</td>\n",
       "      <td>0</td>\n",
       "      <td>0</td>\n",
       "      <td>0</td>\n",
       "      <td>0</td>\n",
       "      <td>0</td>\n",
       "      <td>0</td>\n",
       "      <td>0</td>\n",
       "      <td>0</td>\n",
       "      <td>0</td>\n",
       "      <td>0</td>\n",
       "    </tr>\n",
       "    <tr>\n",
       "      <th>99307</th>\n",
       "      <td>776</td>\n",
       "      <td>132</td>\n",
       "      <td>3.0</td>\n",
       "      <td>0</td>\n",
       "      <td>0</td>\n",
       "      <td>1</td>\n",
       "      <td>0</td>\n",
       "      <td>0</td>\n",
       "      <td>0</td>\n",
       "      <td>0</td>\n",
       "      <td>0</td>\n",
       "      <td>0</td>\n",
       "      <td>0</td>\n",
       "      <td>0</td>\n",
       "      <td>0</td>\n",
       "      <td>0</td>\n",
       "    </tr>\n",
       "    <tr>\n",
       "      <th>99329</th>\n",
       "      <td>542</td>\n",
       "      <td>132</td>\n",
       "      <td>3.0</td>\n",
       "      <td>0</td>\n",
       "      <td>0</td>\n",
       "      <td>1</td>\n",
       "      <td>0</td>\n",
       "      <td>0</td>\n",
       "      <td>0</td>\n",
       "      <td>0</td>\n",
       "      <td>0</td>\n",
       "      <td>0</td>\n",
       "      <td>0</td>\n",
       "      <td>0</td>\n",
       "      <td>0</td>\n",
       "      <td>0</td>\n",
       "    </tr>\n",
       "    <tr>\n",
       "      <th>99537</th>\n",
       "      <td>804</td>\n",
       "      <td>132</td>\n",
       "      <td>4.0</td>\n",
       "      <td>0</td>\n",
       "      <td>0</td>\n",
       "      <td>1</td>\n",
       "      <td>0</td>\n",
       "      <td>0</td>\n",
       "      <td>0</td>\n",
       "      <td>0</td>\n",
       "      <td>0</td>\n",
       "      <td>0</td>\n",
       "      <td>0</td>\n",
       "      <td>0</td>\n",
       "      <td>0</td>\n",
       "      <td>0</td>\n",
       "    </tr>\n",
       "    <tr>\n",
       "      <th>99738</th>\n",
       "      <td>843</td>\n",
       "      <td>132</td>\n",
       "      <td>3.0</td>\n",
       "      <td>0</td>\n",
       "      <td>0</td>\n",
       "      <td>1</td>\n",
       "      <td>0</td>\n",
       "      <td>0</td>\n",
       "      <td>0</td>\n",
       "      <td>0</td>\n",
       "      <td>0</td>\n",
       "      <td>0</td>\n",
       "      <td>0</td>\n",
       "      <td>0</td>\n",
       "      <td>0</td>\n",
       "      <td>0</td>\n",
       "    </tr>\n",
       "  </tbody>\n",
       "</table>\n",
       "<p>246 rows × 16 columns</p>\n",
       "</div>"
      ],
      "text/plain": [
       "       user  item  rating  Action  Animation  Children's  Comedy  Crime  \\\n",
       "107     271   132     5.0       0          0           1       0      0   \n",
       "569     288   132     3.0       0          0           1       0      0   \n",
       "1503    290   132     3.0       0          0           1       0      0   \n",
       "1694    293   132     4.0       0          0           1       0      0   \n",
       "1695     62   132     5.0       0          0           1       0      0   \n",
       "...     ...   ...     ...     ...        ...         ...     ...    ...   \n",
       "98839   716   132     5.0       0          0           1       0      0   \n",
       "99307   776   132     3.0       0          0           1       0      0   \n",
       "99329   542   132     3.0       0          0           1       0      0   \n",
       "99537   804   132     4.0       0          0           1       0      0   \n",
       "99738   843   132     3.0       0          0           1       0      0   \n",
       "\n",
       "       Documentary  Fantasy  Film-Noir  Mystery  Romance  Sci-Fi  Thriller  \\\n",
       "107              0        0          0        0        0       0         0   \n",
       "569              0        0          0        0        0       0         0   \n",
       "1503             0        0          0        0        0       0         0   \n",
       "1694             0        0          0        0        0       0         0   \n",
       "1695             0        0          0        0        0       0         0   \n",
       "...            ...      ...        ...      ...      ...     ...       ...   \n",
       "98839            0        0          0        0        0       0         0   \n",
       "99307            0        0          0        0        0       0         0   \n",
       "99329            0        0          0        0        0       0         0   \n",
       "99537            0        0          0        0        0       0         0   \n",
       "99738            0        0          0        0        0       0         0   \n",
       "\n",
       "       Western  \n",
       "107          0  \n",
       "569          0  \n",
       "1503         0  \n",
       "1694         0  \n",
       "1695         0  \n",
       "...        ...  \n",
       "98839        0  \n",
       "99307        0  \n",
       "99329        0  \n",
       "99537        0  \n",
       "99738        0  \n",
       "\n",
       "[246 rows x 16 columns]"
      ]
     },
     "execution_count": 59,
     "metadata": {},
     "output_type": "execute_result"
    }
   ],
   "source": [
    "new_data"
   ]
  },
  {
   "cell_type": "code",
   "execution_count": null,
   "metadata": {},
   "outputs": [],
   "source": []
  },
  {
   "cell_type": "code",
   "execution_count": 33,
   "metadata": {},
   "outputs": [],
   "source": [
    "ratings = pd.read_csv('BX-CSV-Dump/BX-Book-Ratings.csv', delimiter=\";\", encoding=\"latin1\")\n",
    "ratings.columns = ['userId', 'ISBN', 'bookRating']"
   ]
  },
  {
   "cell_type": "code",
   "execution_count": 32,
   "metadata": {},
   "outputs": [],
   "source": [
    "users = pd.read_csv('BX-CSV-Dump/BX-Users.csv', delimiter=\";\", encoding=\"latin1\")\n",
    "users.columns = ['userId', 'location', 'age']"
   ]
  },
  {
   "cell_type": "code",
   "execution_count": 31,
   "metadata": {},
   "outputs": [
    {
     "name": "stderr",
     "output_type": "stream",
     "text": [
      "b'Skipping line 6452: expected 8 fields, saw 9\\nSkipping line 43667: expected 8 fields, saw 10\\nSkipping line 51751: expected 8 fields, saw 9\\n'\n",
      "b'Skipping line 92038: expected 8 fields, saw 9\\nSkipping line 104319: expected 8 fields, saw 9\\nSkipping line 121768: expected 8 fields, saw 9\\n'\n",
      "b'Skipping line 144058: expected 8 fields, saw 9\\nSkipping line 150789: expected 8 fields, saw 9\\nSkipping line 157128: expected 8 fields, saw 9\\nSkipping line 180189: expected 8 fields, saw 9\\nSkipping line 185738: expected 8 fields, saw 9\\n'\n",
      "b'Skipping line 209388: expected 8 fields, saw 9\\nSkipping line 220626: expected 8 fields, saw 9\\nSkipping line 227933: expected 8 fields, saw 11\\nSkipping line 228957: expected 8 fields, saw 10\\nSkipping line 245933: expected 8 fields, saw 9\\nSkipping line 251296: expected 8 fields, saw 9\\nSkipping line 259941: expected 8 fields, saw 9\\nSkipping line 261529: expected 8 fields, saw 9\\n'\n"
     ]
    }
   ],
   "source": [
    "books = pd.read_csv('BX-CSV-Dump/BX-Books.csv', delimiter=\";\", encoding=\"latin-1\", error_bad_lines=False)\n",
    "books.columns = ['ISBN', 'bookTitle', 'bookAuthor', 'yearOfPublication', 'publisher', 'imageURLS', 'imageURLM', 'imageURLL']"
   ]
  },
  {
   "cell_type": "code",
   "execution_count": 34,
   "metadata": {},
   "outputs": [
    {
     "data": {
      "text/plain": [
       "Index(['ISBN', 'bookTitle', 'bookAuthor', 'yearOfPublication', 'publisher',\n",
       "       'imageURLS', 'imageURLM', 'imageURLL'],\n",
       "      dtype='object')"
      ]
     },
     "execution_count": 34,
     "metadata": {},
     "output_type": "execute_result"
    }
   ],
   "source": [
    "books.columns"
   ]
  },
  {
   "cell_type": "code",
   "execution_count": null,
   "metadata": {},
   "outputs": [],
   "source": []
  }
 ],
 "metadata": {
  "kernelspec": {
   "display_name": "Python 3",
   "language": "python",
   "name": "python3"
  },
  "language_info": {
   "codemirror_mode": {
    "name": "ipython",
    "version": 3
   },
   "file_extension": ".py",
   "mimetype": "text/x-python",
   "name": "python",
   "nbconvert_exporter": "python",
   "pygments_lexer": "ipython3",
   "version": "3.7.6"
  }
 },
 "nbformat": 4,
 "nbformat_minor": 4
}

{
 "cells": [
  {
   "cell_type": "code",
   "execution_count": 1,
   "metadata": {},
   "outputs": [],
   "source": [
    "import pickle\n",
    "import numpy as np\n",
    "import pandas as pd\n",
    "import time\n",
    "\n",
    "from matplotlib import pyplot as plt\n",
    "from functions import get_X, get_y, question_from_v, data_without_v, get_movies_scores, remove_empty_variables\n",
    "from metrics import random_forest, forward_feature_selection, backward_feature_elimination, random_variable_choice, variable_mean_choice\n",
    "from variable_selection_metrics import user_questions, random_questions, loop_simulation, metrics_simulations"
   ]
  },
  {
   "cell_type": "code",
   "execution_count": 2,
   "metadata": {},
   "outputs": [],
   "source": [
    "%load_ext autoreload\n",
    "%autoreload 2"
   ]
  },
  {
   "cell_type": "code",
   "execution_count": 3,
   "metadata": {},
   "outputs": [
    {
     "data": {
      "text/html": [
       "<style>.container { width:80% !important; }</style>"
      ],
      "text/plain": [
       "<IPython.core.display.HTML object>"
      ]
     },
     "metadata": {},
     "output_type": "display_data"
    }
   ],
   "source": [
    "from IPython.core.display import display, HTML\n",
    "display(HTML(\"<style>.container { width:80% !important; }</style>\"))"
   ]
  },
  {
   "cell_type": "code",
   "execution_count": 44,
   "metadata": {},
   "outputs": [],
   "source": [
    "with open(\"data/hetrec2011-lastfm-2k/tags.dat\") as f:\n",
    "    lines = f.readlines()\n",
    "    ids = []\n",
    "    values = []\n",
    "    for i, line in enumerate(lines[1:]):\n",
    "        ids.append(line.strip().split(\"\\t\")[0])\n",
    "        values.append(line.strip().split(\"\\t\")[1])\n",
    "    tags = pd.DataFrame({'tagID': ids, 'tagValue': values})"
   ]
  },
  {
   "cell_type": "code",
   "execution_count": 85,
   "metadata": {},
   "outputs": [],
   "source": [
    "pkl = open('experiment_small_lastfm.pkl','rb')\n",
    "experiment_df = pickle.load(pkl)\n",
    "pkl.close()"
   ]
  },
  {
   "cell_type": "code",
   "execution_count": 86,
   "metadata": {},
   "outputs": [],
   "source": [
    "df = experiment_df.copy()"
   ]
  },
  {
   "cell_type": "code",
   "execution_count": 87,
   "metadata": {},
   "outputs": [
    {
     "name": "stderr",
     "output_type": "stream",
     "text": [
      "C:\\Users\\Visiteur\\anaconda3\\lib\\site-packages\\ipykernel_launcher.py:2: SettingWithCopyWarning: \n",
      "A value is trying to be set on a copy of a slice from a DataFrame\n",
      "\n",
      "See the caveats in the documentation: https://pandas.pydata.org/pandas-docs/stable/user_guide/indexing.html#returning-a-view-versus-a-copy\n",
      "  \n"
     ]
    }
   ],
   "source": [
    "for c in get_X(experiment_df):\n",
    "    df[c][df[c] >= 1] = 1"
   ]
  },
  {
   "cell_type": "code",
   "execution_count": 88,
   "metadata": {},
   "outputs": [
    {
     "data": {
      "text/plain": [
       "15"
      ]
     },
     "execution_count": 88,
     "metadata": {},
     "output_type": "execute_result"
    }
   ],
   "source": [
    "df.columns.size"
   ]
  },
  {
   "cell_type": "code",
   "execution_count": 8,
   "metadata": {},
   "outputs": [],
   "source": [
    "def random_questions(data, metric, display = False, tree = None, randomness = 0):\n",
    "    new_data = data.copy()\n",
    "    question_count = 0\n",
    "    t = Tree(-1)\n",
    "    if tree != None:\n",
    "        t = tree.copy()\n",
    "    \n",
    "    while new_data.item.unique().size > 30 and len(get_X(new_data).columns) > 2:\n",
    "        \n",
    "        \n",
    "        X, y = get_X(new_data), get_y(new_data)\n",
    "        if t != None and t.v != -1:\n",
    "            v = t.v\n",
    "        else:\n",
    "            v = metric(X, y, randomness = randomness, display=display)\n",
    "        \n",
    "        avg = np.mean(X[v])\n",
    "        \n",
    "        lower = True\n",
    "        middle = (avg) / (0.0001 + np.max(new_data[v]) - np.min(new_data[v]))\n",
    "        if np.random.rand() < middle:\n",
    "            lower = False\n",
    "        new_data_ = data_without_v(new_data, v, avg, lower=lower)\n",
    "        if new_data_[\"item\"].size == 0:\n",
    "            return new_data, question_count+1\n",
    "        else:\n",
    "            new_data = new_data_\n",
    "        if t != None and t.v != -1:\n",
    "            if lower:\n",
    "                t = t.left\n",
    "            else:\n",
    "                t = t.right\n",
    "        \n",
    "        if display:\n",
    "            print(v)\n",
    "            print(avg)\n",
    "            print(lower)\n",
    "            print(new_data.item.unique().size)\n",
    "        \n",
    "        question_count += 1\n",
    "        \n",
    "    return new_data, question_count"
   ]
  },
  {
   "cell_type": "code",
   "execution_count": 9,
   "metadata": {},
   "outputs": [],
   "source": [
    "from sklearn.ensemble import RandomForestClassifier\n",
    "\n",
    "from variable_selection_metrics import Tree"
   ]
  },
  {
   "cell_type": "code",
   "execution_count": 24,
   "metadata": {},
   "outputs": [],
   "source": [
    "# Random Forest selection\n",
    "def random_forest(X, y, display=False, max_depth=7, randomness = 0):\n",
    "    clf = RandomForestClassifier(max_depth=max_depth, random_state=0)\n",
    "    clf.fit(X, y)\n",
    "    fe = clf.feature_importances_\n",
    "    v = choose_randomly(X, fe, randomness)\n",
    "    #if display :\n",
    "    #    plt_bar(X, clf)\n",
    "    return v"
   ]
  },
  {
   "cell_type": "code",
   "execution_count": 25,
   "metadata": {},
   "outputs": [],
   "source": [
    "def choose_randomly(data, variables, randomness):\n",
    "    fe = variables.copy()\n",
    "    if np.max(fe) == 0:\n",
    "        return X.columns[np.random.choice(len(fe))]\n",
    "    fe = [i / np.max(fe) for i in fe]\n",
    "    fe = [i  if i >= (1-randomness) else 0 for i in fe]\n",
    "    fe = [i / sum(fe) for i in fe]\n",
    "    v_i = np.random.choice(len(fe), p=fe)\n",
    "    return data.columns[v_i]"
   ]
  },
  {
   "cell_type": "code",
   "execution_count": 11,
   "metadata": {},
   "outputs": [],
   "source": [
    "def loop_simulation(data, metric, loop=10, display = False, tree = None, randomness = 0):\n",
    "    amount_found = {i:0 for i in data.item.unique()}\n",
    "    question_counts = []\n",
    "    \n",
    "    for k in range(loop):\n",
    "        data_found, question_count = random_questions(data, metric, display = False, tree = tree, randomness = randomness)\n",
    "        \n",
    "        question_counts.append(question_count)\n",
    "        scores = get_movies_scores(data_found)\n",
    "        item_found = scores.iloc[:5].item\n",
    "        \n",
    "        for i in item_found:\n",
    "            amount_found[i] += 1\n",
    "        if k % 5 == 0 and display:\n",
    "            print(\"k = \" + str(k))\n",
    "    \n",
    "    return amount_found, question_counts"
   ]
  },
  {
   "cell_type": "code",
   "execution_count": 12,
   "metadata": {},
   "outputs": [],
   "source": [
    "def metrics_simulations(data, metric_list, metric_names, loopsize, display = False, trees = None):\n",
    "    times = {}\n",
    "    results = {}\n",
    "    question_counts = {}\n",
    "    \n",
    "    for metric, name in zip(metric_list, metric_names):\n",
    "        if display:\n",
    "            print(\" ========== \" + name + \" ========== \")\n",
    "        t = time.time()\n",
    "        if trees == None:\n",
    "            result, question_count = loop_simulation(data, metric, loop=loopsize, display = display)\n",
    "        else:\n",
    "            result, question_count = loop_simulation(data, metric, loop=loopsize, display = display, tree = trees[name])\n",
    "\n",
    "        times[name] = (time.time() - t) / loopsize\n",
    "        results[name] = result\n",
    "        question_counts[name] = question_count\n",
    "        \n",
    "    \n",
    "    return results, times, question_counts"
   ]
  },
  {
   "cell_type": "code",
   "execution_count": 16,
   "metadata": {},
   "outputs": [
    {
     "data": {
      "text/plain": [
       "1.0783978666860257"
      ]
     },
     "execution_count": 16,
     "metadata": {},
     "output_type": "execute_result"
    }
   ],
   "source": [
    "pow(2,226) / 1e68"
   ]
  },
  {
   "cell_type": "code",
   "execution_count": 23,
   "metadata": {},
   "outputs": [
    {
     "data": {
      "text/plain": [
       "389017"
      ]
     },
     "execution_count": 23,
     "metadata": {},
     "output_type": "execute_result"
    }
   ],
   "source": [
    "pow(73,3)"
   ]
  },
  {
   "cell_type": "code",
   "execution_count": 195,
   "metadata": {
    "scrolled": true
   },
   "outputs": [
    {
     "name": "stdout",
     "output_type": "stream",
     "text": [
      "k = 0\n",
      "k = 5\n",
      "k = 10\n",
      "k = 15\n",
      "k = 20\n",
      "k = 25\n",
      "k = 30\n",
      "k = 35\n",
      "k = 40\n",
      "k = 45\n",
      "k = 50\n",
      "k = 55\n",
      "k = 60\n",
      "k = 65\n",
      "k = 70\n",
      "k = 75\n",
      "k = 80\n",
      "k = 85\n",
      "k = 90\n",
      "k = 95\n",
      "k = 100\n",
      "k = 105\n",
      "k = 110\n",
      "k = 115\n",
      "k = 120\n",
      "k = 125\n",
      "k = 130\n",
      "k = 135\n",
      "k = 140\n",
      "k = 145\n",
      "k = 150\n",
      "k = 155\n",
      "k = 160\n",
      "k = 165\n",
      "k = 170\n",
      "k = 175\n",
      "k = 180\n",
      "k = 185\n",
      "k = 190\n",
      "k = 195\n",
      "k = 0\n",
      "k = 5\n",
      "k = 10\n",
      "k = 15\n",
      "k = 20\n",
      "k = 25\n",
      "k = 30\n",
      "k = 35\n",
      "k = 40\n",
      "k = 45\n",
      "k = 50\n",
      "k = 55\n",
      "k = 60\n",
      "k = 65\n",
      "k = 70\n",
      "k = 75\n",
      "k = 80\n",
      "k = 85\n",
      "k = 90\n",
      "k = 95\n",
      "k = 100\n",
      "k = 105\n",
      "k = 110\n",
      "k = 115\n",
      "k = 120\n",
      "k = 125\n",
      "k = 130\n",
      "k = 135\n",
      "k = 140\n",
      "k = 145\n",
      "k = 150\n",
      "k = 155\n",
      "k = 160\n",
      "k = 165\n",
      "k = 170\n",
      "k = 175\n",
      "k = 180\n",
      "k = 185\n",
      "k = 190\n",
      "k = 195\n",
      "k = 0\n",
      "k = 5\n",
      "k = 10\n",
      "k = 15\n",
      "k = 20\n",
      "k = 25\n",
      "k = 30\n",
      "k = 35\n",
      "k = 40\n",
      "k = 45\n",
      "k = 50\n",
      "k = 55\n",
      "k = 60\n",
      "k = 65\n",
      "k = 70\n",
      "k = 75\n",
      "k = 80\n",
      "k = 85\n",
      "k = 90\n",
      "k = 95\n",
      "k = 100\n",
      "k = 105\n",
      "k = 110\n",
      "k = 115\n",
      "k = 120\n",
      "k = 125\n",
      "k = 130\n",
      "k = 135\n",
      "k = 140\n",
      "k = 145\n",
      "k = 150\n",
      "k = 155\n",
      "k = 160\n",
      "k = 165\n",
      "k = 170\n",
      "k = 175\n",
      "k = 180\n",
      "k = 185\n",
      "k = 190\n",
      "k = 195\n"
     ]
    }
   ],
   "source": [
    "amount_found0, question_counts0 = loop_simulation(df, random_forest, loop=200, display = True, tree = None, randomness = 0)\n",
    "amount_found05, question_counts05 = loop_simulation(df, random_forest, loop=200, display = True, tree = None, randomness = 0.5)\n",
    "amount_found1, question_counts1 = loop_simulation(df, random_forest, loop=200, display = True, tree = None, randomness = 1)"
   ]
  },
  {
   "cell_type": "code",
   "execution_count": 196,
   "metadata": {},
   "outputs": [],
   "source": [
    "names = [\"0\", \"0.5\", \"1\"]"
   ]
  },
  {
   "cell_type": "code",
   "execution_count": 197,
   "metadata": {},
   "outputs": [],
   "source": [
    "results = {\"0\":amount_found0, \"0.5\":amount_found05, \"1\":amount_found1}"
   ]
  },
  {
   "cell_type": "code",
   "execution_count": 198,
   "metadata": {},
   "outputs": [],
   "source": [
    "full_results = {\n",
    "    '0':np.zeros(len(amount_found0), dtype=int),\n",
    "    '0.5':np.zeros(len(amount_found0), dtype=int),\n",
    "    '1':np.zeros(len(amount_found0), dtype=int),\n",
    "}"
   ]
  },
  {
   "cell_type": "code",
   "execution_count": 199,
   "metadata": {},
   "outputs": [],
   "source": [
    "for randomness in names:\n",
    "    for i, k in enumerate(results[randomness].keys()):\n",
    "        full_results[randomness][i] += results[randomness][k]"
   ]
  },
  {
   "cell_type": "code",
   "execution_count": 200,
   "metadata": {},
   "outputs": [
    {
     "data": {
      "text/plain": [
       "array([0, 0, 0, ..., 0, 0, 0])"
      ]
     },
     "execution_count": 200,
     "metadata": {},
     "output_type": "execute_result"
    }
   ],
   "source": [
    "full_results[\"0\"]"
   ]
  },
  {
   "cell_type": "code",
   "execution_count": 201,
   "metadata": {},
   "outputs": [],
   "source": [
    "cut_results = {}\n",
    "for name in names:\n",
    "    cut_results[name] = [e for e in full_results[name] if e > 0]"
   ]
  },
  {
   "cell_type": "code",
   "execution_count": 202,
   "metadata": {},
   "outputs": [
    {
     "data": {
      "image/png": "[encoded data removed]",
      "text/plain": [
       "<Figure size 432x288 with 1 Axes>"
      ]
     },
     "metadata": {
      "needs_background": "light"
     },
     "output_type": "display_data"
    },
    {
     "data": {
      "image/png": "[encoded data removed]",
      "text/plain": [
       "<Figure size 432x288 with 1 Axes>"
      ]
     },
     "metadata": {
      "needs_background": "light"
     },
     "output_type": "display_data"
    },
    {
     "data": {
      "image/png": "[encoded data removed]",
      "text/plain": [
       "<Figure size 432x288 with 1 Axes>"
      ]
     },
     "metadata": {
      "needs_background": "light"
     },
     "output_type": "display_data"
    }
   ],
   "source": [
    "for name, color in zip(names, ['b','g','r']):\n",
    "    plt.hist(full_results[name], color=color)\n",
    "    plt.title(name)\n",
    "    plt.show()"
   ]
  },
  {
   "cell_type": "code",
   "execution_count": 203,
   "metadata": {},
   "outputs": [
    {
     "data": {
      "image/png": "[encoded data removed]",
      "text/plain": [
       "<Figure size 432x288 with 1 Axes>"
      ]
     },
     "metadata": {
      "needs_background": "light"
     },
     "output_type": "display_data"
    },
    {
     "data": {
      "image/png": "[encoded data removed]",
      "text/plain": [
       "<Figure size 432x288 with 1 Axes>"
      ]
     },
     "metadata": {
      "needs_background": "light"
     },
     "output_type": "display_data"
    },
    {
     "data": {
      "image/png": "[encoded data removed]",
      "text/plain": [
       "<Figure size 432x288 with 1 Axes>"
      ]
     },
     "metadata": {
      "needs_background": "light"
     },
     "output_type": "display_data"
    }
   ],
   "source": [
    "for name, color in zip(names, ['b','g','r']):\n",
    "    plt.hist(cut_results[name], color=color)\n",
    "    plt.title(name)\n",
    "    plt.show()"
   ]
  },
  {
   "cell_type": "code",
   "execution_count": 204,
   "metadata": {},
   "outputs": [],
   "source": [
    "qc_array = {\"0\":question_counts0, \"0.5\":question_counts05, \"1\":question_counts1}"
   ]
  },
  {
   "cell_type": "code",
   "execution_count": 205,
   "metadata": {},
   "outputs": [
    {
     "data": {
      "text/plain": [
       "Text(0.5, 1.0, 'Minimum amount of questions')"
      ]
     },
     "execution_count": 205,
     "metadata": {},
     "output_type": "execute_result"
    },
    {
     "data": {
      "image/png": "[encoded data removed]",
      "text/plain": [
       "<Figure size 432x288 with 1 Axes>"
      ]
     },
     "metadata": {
      "needs_background": "light"
     },
     "output_type": "display_data"
    }
   ],
   "source": [
    "plt.bar(qc_array.keys(), [np.min(r) for r in qc_array.values()], color = ['b','g','r','y'])\n",
    "plt.title('Minimum amount of questions')"
   ]
  },
  {
   "cell_type": "code",
   "execution_count": 206,
   "metadata": {},
   "outputs": [
    {
     "data": {
      "text/plain": [
       "Text(0.5, 1.0, 'Average amount of questions')"
      ]
     },
     "execution_count": 206,
     "metadata": {},
     "output_type": "execute_result"
    },
    {
     "data": {
      "image/png": "[encoded data removed]",
      "text/plain": [
       "<Figure size 432x288 with 1 Axes>"
      ]
     },
     "metadata": {
      "needs_background": "light"
     },
     "output_type": "display_data"
    }
   ],
   "source": [
    "plt.bar(qc_array.keys(), [np.mean(r) for r in qc_array.values()], color = ['b','g','r','y'])\n",
    "plt.title('Average amount of questions')"
   ]
  },
  {
   "cell_type": "code",
   "execution_count": 207,
   "metadata": {},
   "outputs": [
    {
     "data": {
      "text/plain": [
       "Text(0.5, 1.0, 'Maximum amount of questions')"
      ]
     },
     "execution_count": 207,
     "metadata": {},
     "output_type": "execute_result"
    },
    {
     "data": {
      "image/png": "[encoded data removed]",
      "text/plain": [
       "<Figure size 432x288 with 1 Axes>"
      ]
     },
     "metadata": {
      "needs_background": "light"
     },
     "output_type": "display_data"
    }
   ],
   "source": [
    "plt.bar(qc_array.keys(), [np.max(r) for r in qc_array.values()], color = ['b','g','r','y'])\n",
    "plt.title('Maximum amount of questions')"
   ]
  },
  {
   "cell_type": "code",
   "execution_count": null,
   "metadata": {},
   "outputs": [],
   "source": []
  },
  {
   "cell_type": "markdown",
   "metadata": {},
   "source": [
    "# Objectif pour mardi\n",
    "\n",
    "- Système de sélection basé sur du pseudo-random avec pré-calcul de la première feature importance\n",
    "- Questions basées sur les tags pour la deuxième base de données"
   ]
  },
  {
   "cell_type": "code",
   "execution_count": 77,
   "metadata": {},
   "outputs": [],
   "source": [
    "def question_about_music(variable, tags):\n",
    "    return \"Do you like \" + str(tags[tags.tagID == str(variable)].tagValue.iloc[0]) + \" music? (y/n)\""
   ]
  },
  {
   "cell_type": "code",
   "execution_count": 78,
   "metadata": {},
   "outputs": [],
   "source": [
    "def user_questions(data, metric, display = False, first_variables = np.array([]), randomness = 0, tags = None):\n",
    "    new_data = data.copy()\n",
    "    first_question = False\n",
    "    if first_variables.size != 0:\n",
    "        first_question = True\n",
    "\n",
    "    while new_data.item.unique().size > 10 and len(get_X(new_data).columns) > 1:\n",
    "        X, y = get_X(new_data), get_y(new_data)\n",
    "        if first_question:\n",
    "            v = choose_randomly(X, first_variables, randomness)\n",
    "            first_question = False\n",
    "        else:\n",
    "            v = metric(X, y, randomness = randomness,display=display)\n",
    "        \n",
    "        avg = np.mean(X[v])\n",
    "        \n",
    "        # y_or_n = input(str(v)+\"? (y/n)\")\n",
    "        # y_or_n = input(question_from_v(v, threshold=avg))\n",
    "        y_or_n = input(question_about_music(v, tags))\n",
    "        if y_or_n == \"y\" or y_or_n == \"Y\" or y_or_n == \"yes\" or y_or_n == \"Yes\" :\n",
    "            new_data_ = data_without_v(new_data, v, avg, lower=False)\n",
    "        elif y_or_n == \"n\" or y_or_n == \"N\" or y_or_n == \"no\" or y_or_n == \"No\" :\n",
    "            new_data_ = data_without_v(new_data, v, avg, lower=True)\n",
    "        if new_data_[\"item\"].size == 0:\n",
    "            return new_data\n",
    "        else:\n",
    "            new_data = new_data_\n",
    "        \n",
    "    return new_data"
   ]
  },
  {
   "cell_type": "code",
   "execution_count": 89,
   "metadata": {},
   "outputs": [],
   "source": [
    "X, y = get_X(df), get_y(df)\n",
    "clf = RandomForestClassifier(max_depth=7, random_state=0)\n",
    "clf.fit(X, y)\n",
    "fe = clf.feature_importances_"
   ]
  },
  {
   "cell_type": "code",
   "execution_count": 94,
   "metadata": {},
   "outputs": [
    {
     "name": "stdout",
     "output_type": "stream",
     "text": [
      "Do you like alternative music? (y/n)y\n",
      "Do you like british music? (y/n)y\n",
      "Do you like alternative rock music? (y/n)y\n",
      "Do you like female vocalists music? (y/n)n\n",
      "Do you like electronic music? (y/n)n\n",
      "Do you like classic rock music? (y/n)y\n"
     ]
    }
   ],
   "source": [
    "results = user_questions(df, random_forest, display = False, first_variables = fe, randomness = 0.8, tags = tags)"
   ]
  },
  {
   "cell_type": "code",
   "execution_count": 95,
   "metadata": {},
   "outputs": [
    {
     "data": {
      "text/plain": [
       "array([ 203,  227,  429,  533,  728, 1122, 1412, 5440], dtype=int64)"
      ]
     },
     "execution_count": 95,
     "metadata": {},
     "output_type": "execute_result"
    }
   ],
   "source": [
    "results.item.unique()"
   ]
  },
  {
   "cell_type": "code",
   "execution_count": 92,
   "metadata": {},
   "outputs": [
    {
     "data": {
      "text/html": [
       "<div>\n",
       "<style scoped>\n",
       "    .dataframe tbody tr th:only-of-type {\n",
       "        vertical-align: middle;\n",
       "    }\n",
       "\n",
       "    .dataframe tbody tr th {\n",
       "        vertical-align: top;\n",
       "    }\n",
       "\n",
       "    .dataframe thead th {\n",
       "        text-align: right;\n",
       "    }\n",
       "</style>\n",
       "<table border=\"1\" class=\"dataframe\">\n",
       "  <thead>\n",
       "    <tr style=\"text-align: right;\">\n",
       "      <th></th>\n",
       "      <th>tagID</th>\n",
       "      <th>tagValue</th>\n",
       "    </tr>\n",
       "  </thead>\n",
       "  <tbody>\n",
       "    <tr>\n",
       "      <th>0</th>\n",
       "      <td>1</td>\n",
       "      <td>metal</td>\n",
       "    </tr>\n",
       "    <tr>\n",
       "      <th>1</th>\n",
       "      <td>2</td>\n",
       "      <td>alternative metal</td>\n",
       "    </tr>\n",
       "    <tr>\n",
       "      <th>2</th>\n",
       "      <td>3</td>\n",
       "      <td>goth rock</td>\n",
       "    </tr>\n",
       "    <tr>\n",
       "      <th>3</th>\n",
       "      <td>4</td>\n",
       "      <td>black metal</td>\n",
       "    </tr>\n",
       "    <tr>\n",
       "      <th>4</th>\n",
       "      <td>5</td>\n",
       "      <td>death metal</td>\n",
       "    </tr>\n",
       "    <tr>\n",
       "      <th>...</th>\n",
       "      <td>...</td>\n",
       "      <td>...</td>\n",
       "    </tr>\n",
       "    <tr>\n",
       "      <th>11941</th>\n",
       "      <td>12644</td>\n",
       "      <td>suomi</td>\n",
       "    </tr>\n",
       "    <tr>\n",
       "      <th>11942</th>\n",
       "      <td>12645</td>\n",
       "      <td>symbiosis</td>\n",
       "    </tr>\n",
       "    <tr>\n",
       "      <th>11943</th>\n",
       "      <td>12646</td>\n",
       "      <td>sverige</td>\n",
       "    </tr>\n",
       "    <tr>\n",
       "      <th>11944</th>\n",
       "      <td>12647</td>\n",
       "      <td>eire</td>\n",
       "    </tr>\n",
       "    <tr>\n",
       "      <th>11945</th>\n",
       "      <td>12648</td>\n",
       "      <td>electro latino</td>\n",
       "    </tr>\n",
       "  </tbody>\n",
       "</table>\n",
       "<p>11946 rows × 2 columns</p>\n",
       "</div>"
      ],
      "text/plain": [
       "       tagID           tagValue\n",
       "0          1              metal\n",
       "1          2  alternative metal\n",
       "2          3          goth rock\n",
       "3          4        black metal\n",
       "4          5        death metal\n",
       "...      ...                ...\n",
       "11941  12644              suomi\n",
       "11942  12645          symbiosis\n",
       "11943  12646            sverige\n",
       "11944  12647               eire\n",
       "11945  12648     electro latino\n",
       "\n",
       "[11946 rows x 2 columns]"
      ]
     },
     "execution_count": 92,
     "metadata": {},
     "output_type": "execute_result"
    }
   ],
   "source": [
    "tags"
   ]
  },
  {
   "cell_type": "code",
   "execution_count": 61,
   "metadata": {},
   "outputs": [],
   "source": [
    "artists = pd.read_csv(\"data/hetrec2011-lastfm-2k/artists.dat\", sep=\"\\t\", usecols=['id', 'name', 'url', 'pictureURL'])"
   ]
  },
  {
   "cell_type": "code",
   "execution_count": 96,
   "metadata": {},
   "outputs": [
    {
     "name": "stdout",
     "output_type": "stream",
     "text": [
      "Blur\n",
      "The Beatles\n",
      "The Smiths\n",
      "Oasis\n",
      "Eric Clapton\n",
      "The Police\n",
      "Led Zeppelin\n",
      "The Zutons\n"
     ]
    }
   ],
   "source": [
    "for r in results.item.unique():\n",
    "    print(artists[artists.id == r].name.iloc[0])"
   ]
  },
  {
   "cell_type": "code",
   "execution_count": 63,
   "metadata": {},
   "outputs": [
    {
     "data": {
      "text/html": [
       "<div>\n",
       "<style scoped>\n",
       "    .dataframe tbody tr th:only-of-type {\n",
       "        vertical-align: middle;\n",
       "    }\n",
       "\n",
       "    .dataframe tbody tr th {\n",
       "        vertical-align: top;\n",
       "    }\n",
       "\n",
       "    .dataframe thead th {\n",
       "        text-align: right;\n",
       "    }\n",
       "</style>\n",
       "<table border=\"1\" class=\"dataframe\">\n",
       "  <thead>\n",
       "    <tr style=\"text-align: right;\">\n",
       "      <th></th>\n",
       "      <th>id</th>\n",
       "      <th>name</th>\n",
       "      <th>url</th>\n",
       "      <th>pictureURL</th>\n",
       "    </tr>\n",
       "  </thead>\n",
       "  <tbody>\n",
       "    <tr>\n",
       "      <th>722</th>\n",
       "      <td>728</td>\n",
       "      <td>Eric Clapton</td>\n",
       "      <td>http://www.last.fm/music/Eric+Clapton</td>\n",
       "      <td>http://userserve-ak.last.fm/serve/252/2366379.jpg</td>\n",
       "    </tr>\n",
       "  </tbody>\n",
       "</table>\n",
       "</div>"
      ],
      "text/plain": [
       "      id          name                                    url  \\\n",
       "722  728  Eric Clapton  http://www.last.fm/music/Eric+Clapton   \n",
       "\n",
       "                                            pictureURL  \n",
       "722  http://userserve-ak.last.fm/serve/252/2366379.jpg  "
      ]
     },
     "execution_count": 63,
     "metadata": {},
     "output_type": "execute_result"
    }
   ],
   "source": [
    "artists[artists.id == 728]"
   ]
  },
  {
   "cell_type": "code",
   "execution_count": null,
   "metadata": {},
   "outputs": [],
   "source": []
  }
 ],
 "metadata": {
  "kernelspec": {
   "display_name": "Python 3",
   "language": "python",
   "name": "python3"
  },
  "language_info": {
   "codemirror_mode": {
    "name": "ipython",
    "version": 3
   },
   "file_extension": ".py",
   "mimetype": "text/x-python",
   "name": "python",
   "nbconvert_exporter": "python",
   "pygments_lexer": "ipython3",
   "version": "3.7.6"
  }
 },
 "nbformat": 4,
 "nbformat_minor": 4
}

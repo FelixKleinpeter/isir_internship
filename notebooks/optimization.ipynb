{
 "cells": [
  {
   "cell_type": "code",
   "execution_count": null,
   "metadata": {},
   "outputs": [],
   "source": [
    "import pickle\n",
    "import numpy as np\n",
    "import pandas as pd\n",
    "import time\n",
    "\n",
    "from matplotlib import pyplot as plt\n",
    "from functions import get_X, get_y, question_from_v, data_without_v, get_movies_scores, remove_empty_variables\n",
    "from metrics import random_forest, forward_feature_selection, backward_feature_elimination, random_variable_choice, variable_mean_choice\n",
    "from variable_selection_metrics import user_questions, random_questions, loop_simulation, metrics_simulations"
   ]
  },
  {
   "cell_type": "code",
   "execution_count": null,
   "metadata": {},
   "outputs": [],
   "source": [
    "%load_ext autoreload\n",
    "%autoreload 2"
   ]
  },
  {
   "cell_type": "code",
   "execution_count": 1,
   "metadata": {},
   "outputs": [
    {
     "data": {
      "text/html": [
       "<style>.container { width:80% !important; }</style>"
      ],
      "text/plain": [
       "<IPython.core.display.HTML object>"
      ]
     },
     "metadata": {},
     "output_type": "display_data"
    }
   ],
   "source": [
    "from IPython.core.display import display, HTML\n",
    "display(HTML(\"<style>.container { width:80% !important; }</style>\"))"
   ]
  },
  {
   "cell_type": "markdown",
   "metadata": {},
   "source": [
    "# Load data"
   ]
  },
  {
   "cell_type": "code",
   "execution_count": null,
   "metadata": {},
   "outputs": [],
   "source": [
    "pkl = open('experiment_clean_lastfm.pkl','rb')\n",
    "experiment_df = pickle.load(pkl)\n",
    "pkl.close()"
   ]
  },
  {
   "cell_type": "code",
   "execution_count": null,
   "metadata": {},
   "outputs": [],
   "source": [
    "df = experiment_df.copy()"
   ]
  },
  {
   "cell_type": "code",
   "execution_count": null,
   "metadata": {},
   "outputs": [],
   "source": [
    "for c in get_X(experiment_df):\n",
    "    df[c][df[c] >= 1] = 1"
   ]
  },
  {
   "cell_type": "code",
   "execution_count": null,
   "metadata": {
    "scrolled": true
   },
   "outputs": [],
   "source": [
    "df.columns.size"
   ]
  },
  {
   "cell_type": "markdown",
   "metadata": {},
   "source": [
    "# Optimization"
   ]
  },
  {
   "cell_type": "code",
   "execution_count": null,
   "metadata": {},
   "outputs": [],
   "source": [
    "metric_list = [random_variable_choice]  #[random_forest, forward_feature_selection, random_variable_choice, variable_mean_choice]\n",
    "metric_names = [\"VMC\"] #[\"RF\", \"FFS\", \"RVC\", \"VMC\"]\n",
    "\n",
    "loopsize = 1"
   ]
  },
  {
   "cell_type": "code",
   "execution_count": null,
   "metadata": {},
   "outputs": [],
   "source": [
    "results, times, question_counts = metrics_simulations(df, metric_list, metric_names, loopsize, display = True)"
   ]
  },
  {
   "cell_type": "code",
   "execution_count": null,
   "metadata": {},
   "outputs": [],
   "source": [
    "np.mean(df[73])"
   ]
  },
  {
   "cell_type": "code",
   "execution_count": null,
   "metadata": {},
   "outputs": [],
   "source": [
    "selected_tags[selected_tags.tagID == 73]"
   ]
  },
  {
   "cell_type": "markdown",
   "metadata": {},
   "source": [
    "# Creating a tree for the random forest choice\n",
    "\n",
    "- Issue n°1 : a tree on 73 tags will have around 10^22 nodes\n",
    "- Actually, the tree is not that deep -> Computation\n",
    "- Pre-creating a part of the tree can be a good start : the longest computations are the first (always the same)"
   ]
  },
  {
   "cell_type": "markdown",
   "metadata": {},
   "source": [
    "In term of area, only answering yes would bring to a depth of around 15 questions. Imagining the tree like a triangle would mean that the tree has a shape of 15 * 73 = 1095. Let's try it."
   ]
  },
  {
   "cell_type": "code",
   "execution_count": null,
   "metadata": {},
   "outputs": [],
   "source": [
    "15 * 73"
   ]
  },
  {
   "cell_type": "code",
   "execution_count": null,
   "metadata": {},
   "outputs": [],
   "source": [
    "user_result = user_questions(df, random_forest)"
   ]
  },
  {
   "cell_type": "code",
   "execution_count": null,
   "metadata": {},
   "outputs": [],
   "source": []
  },
  {
   "cell_type": "markdown",
   "metadata": {},
   "source": [
    "Fonctions :\n",
    "- Calcul d'une BDD après application d'une variable (data_without_v)\n",
    "- Calcul d'une BDD après application d'une séquence de variables\n",
    "- Application d'une séquence de question à une BDD, True si termine False sinon."
   ]
  },
  {
   "cell_type": "code",
   "execution_count": null,
   "metadata": {},
   "outputs": [],
   "source": [
    "from functions import data_without_v"
   ]
  },
  {
   "cell_type": "code",
   "execution_count": null,
   "metadata": {},
   "outputs": [],
   "source": [
    "def data_without_sequence(data, sequence):\n",
    "    \"\"\" By default, the threshold of variables are their mean on the initial database \"\"\"\n",
    "    new_data = data.copy()\n",
    "    for (v, b) in sequence:\n",
    "        X = get_X(new_data)\n",
    "        avg = np.mean(X[v])\n",
    "        new_data = data_without_v(new_data, v, avg, lower=(not b))\n",
    "    return new_data"
   ]
  },
  {
   "cell_type": "code",
   "execution_count": null,
   "metadata": {},
   "outputs": [],
   "source": [
    "l = [(73, True), (79, True)]"
   ]
  },
  {
   "cell_type": "code",
   "execution_count": null,
   "metadata": {},
   "outputs": [],
   "source": [
    "data_without_sequence(df, l).shape"
   ]
  },
  {
   "cell_type": "code",
   "execution_count": null,
   "metadata": {},
   "outputs": [],
   "source": [
    "def ask_question_sequence(data, sequence):\n",
    "    new_data = data_without_sequence(data, sequence)\n",
    "    return new_data.item.unique().size <= 10"
   ]
  },
  {
   "cell_type": "code",
   "execution_count": null,
   "metadata": {},
   "outputs": [],
   "source": [
    "l = [(356, True), (275, True)]"
   ]
  },
  {
   "cell_type": "code",
   "execution_count": null,
   "metadata": {},
   "outputs": [],
   "source": [
    "ask_question_sequence(df, l)"
   ]
  },
  {
   "cell_type": "code",
   "execution_count": null,
   "metadata": {},
   "outputs": [],
   "source": [
    "df.columns.size"
   ]
  },
  {
   "cell_type": "code",
   "execution_count": null,
   "metadata": {},
   "outputs": [],
   "source": [
    "import copy"
   ]
  },
  {
   "cell_type": "code",
   "execution_count": null,
   "metadata": {},
   "outputs": [],
   "source": [
    "class Tree:\n",
    "    def __init__(self, v):\n",
    "        self.v = v\n",
    "        self.left = None\n",
    "        self.right = None\n",
    "    \n",
    "    def set_left(self, t):\n",
    "        self.left = t\n",
    "\n",
    "    def set_right(self, l):\n",
    "        self.right = l\n",
    "    \n",
    "    def copy(self):\n",
    "        if self.v == -1:\n",
    "            return Tree(-1)\n",
    "        else:\n",
    "            t = Tree(self.v)\n",
    "            if self.left != None:\n",
    "                t.set_left(self.left.copy())\n",
    "            if self.right != None:\n",
    "                t.set_right(self.right.copy())\n",
    "            return t"
   ]
  },
  {
   "cell_type": "markdown",
   "metadata": {},
   "source": [
    "- Fonction supérieure ( BDD, metric )\n",
    "- Sequence = []\n",
    "- Fonction récursive ( sequence ) :\n",
    "    - BDD_ = compute_sequence\n",
    "    - if que_sequ(BDD_) ne donne pas de solution :\n",
    "        - v = metric(BDD_)\n",
    "        - sequence1 = sequence + [v:T]\n",
    "        - sequence2 = sequence + [v:F]\n",
    "        - Tree = Tree(v)\n",
    "        - Tree.left = aux(sequence1)\n",
    "        - Tree.right = aux(sequence2)\n",
    "        - Return tree"
   ]
  },
  {
   "cell_type": "code",
   "execution_count": null,
   "metadata": {},
   "outputs": [],
   "source": [
    "def pre_compute_tree(data, metric, depth = 5):\n",
    "    def rec(s):\n",
    "        new_data = data_without_sequence(data, s)\n",
    "        if len(s) > depth:\n",
    "            return Tree(-1)\n",
    "        if new_data.item.unique().size > 10 and len(get_X(new_data).columns) > 1:\n",
    "            X, y = get_X(new_data), get_y(new_data)\n",
    "            v = metric(X, y, display=False)\n",
    "            \n",
    "            s1 = s + [(v, True)]\n",
    "            s2 = s + [(v, False)]\n",
    "            print(s)\n",
    "            \n",
    "            t = Tree(v)\n",
    "            t.set_left(rec(s1))\n",
    "            t.set_left(rec(s2))\n",
    "            \n",
    "            return t\n",
    "        return Tree(-1)\n",
    "    return rec([])"
   ]
  },
  {
   "cell_type": "code",
   "execution_count": null,
   "metadata": {
    "scrolled": true
   },
   "outputs": [],
   "source": [
    "t0 = time.time()\n",
    "t5 = pre_compute_tree(df, random_forest, depth = 5)\n",
    "time_t5 = time.time() - t0"
   ]
  },
  {
   "cell_type": "markdown",
   "metadata": {},
   "source": [
    "# C'est quand même un peu long\n",
    "\n",
    "-> Pré-créer la base de l'arbre (les premiers noeuds) puis laisse faire le reste par les algos."
   ]
  },
  {
   "cell_type": "code",
   "execution_count": null,
   "metadata": {},
   "outputs": [],
   "source": [
    "t.v"
   ]
  },
  {
   "cell_type": "markdown",
   "metadata": {},
   "source": [
    "- Faire une fonction qui calcul à partir d'un arbre\n",
    "- Faire tourner des rf dessus avec des arbres de prof différentes\n",
    "- Calculer les temps de calculs des arbres en fonction de leurs profondeurs\n",
    "- Faire les calculs d'efficacité et de spread pour des bases plus grandes"
   ]
  },
  {
   "cell_type": "code",
   "execution_count": null,
   "metadata": {},
   "outputs": [],
   "source": [
    "def random_questions(data, metric, display = False, tree = None):\n",
    "    new_data = data.copy()\n",
    "    question_count = 0\n",
    "    t = Tree(-1)\n",
    "    if tree != None:\n",
    "        t = tree.copy()\n",
    "    \n",
    "    while new_data.item.unique().size > 10 and len(get_X(new_data).columns) > 1:\n",
    "        \n",
    "        \n",
    "        X, y = get_X(new_data), get_y(new_data)\n",
    "        if t != None and t.v != -1:\n",
    "            v = t.v\n",
    "        else:\n",
    "            v = metric(X, y, display=display)\n",
    "        \n",
    "        avg = np.mean(X[v])\n",
    "        \n",
    "        lower = True\n",
    "        middle = (avg) / (0.0001 + np.max(new_data[v]) - np.min(new_data[v]))\n",
    "        if np.random.rand() < middle:\n",
    "            lower = False\n",
    "        new_data = data_without_v(new_data, v, avg, lower=lower)\n",
    "        if t != None and t.v != -1:\n",
    "            if lower:\n",
    "                t = t.left\n",
    "            else:\n",
    "                t = t.right\n",
    "        \n",
    "        if display:\n",
    "            print(v)\n",
    "            print(avg)\n",
    "            print(lower)\n",
    "            print(new_data.item.unique().size)\n",
    "        \n",
    "        question_count += 1\n",
    "        \n",
    "    return new_data, question_count"
   ]
  },
  {
   "cell_type": "code",
   "execution_count": null,
   "metadata": {},
   "outputs": [],
   "source": [
    "random_questions(df, random_forest, display = False, tree = t5)"
   ]
  },
  {
   "cell_type": "code",
   "execution_count": null,
   "metadata": {
    "scrolled": true
   },
   "outputs": [],
   "source": [
    "tree5_times = []\n",
    "for k in range(50):\n",
    "    t0 = time.time()\n",
    "    random_questions(df, random_forest, display = False, tree = t5)\n",
    "    tree5_times.append(time.time() - t0)\n",
    "    print(k)"
   ]
  },
  {
   "cell_type": "code",
   "execution_count": null,
   "metadata": {
    "scrolled": true
   },
   "outputs": [],
   "source": [
    "notree_times = []\n",
    "for k in range(20):\n",
    "    t0 = time.time()\n",
    "    random_questions(df, random_forest, display = False)\n",
    "    notree_times.append(time.time() - t0)\n",
    "    print(k)"
   ]
  },
  {
   "cell_type": "code",
   "execution_count": null,
   "metadata": {},
   "outputs": [],
   "source": []
  },
  {
   "cell_type": "code",
   "execution_count": null,
   "metadata": {
    "scrolled": true
   },
   "outputs": [],
   "source": [
    "t0 = time.time()\n",
    "t10 = pre_compute_tree(df, random_forest, depth = 10)\n",
    "time_t10 = time.time() - t0"
   ]
  },
  {
   "cell_type": "code",
   "execution_count": null,
   "metadata": {
    "scrolled": true
   },
   "outputs": [],
   "source": [
    "tree10_times = []\n",
    "for k in range(50):\n",
    "    t0 = time.time()\n",
    "    random_questions(df, random_forest, display = False, tree = t10)\n",
    "    tree10_times.append(time.time() - t0)\n",
    "    print(k)"
   ]
  },
  {
   "cell_type": "code",
   "execution_count": null,
   "metadata": {},
   "outputs": [],
   "source": [
    "print(np.mean(notree_times))\n",
    "print(np.mean(tree5_times))\n",
    "print(np.mean(tree10_times))"
   ]
  },
  {
   "cell_type": "code",
   "execution_count": null,
   "metadata": {},
   "outputs": [],
   "source": [
    "plt.bar([\"No tree\", \"Depth 5 tree\", \"Depth 10 tree\"], [np.mean(notree_times), np.mean(tree5_times), np.mean(tree10_times)], color = ['b','g','r','y'])\n",
    "\n",
    "plt.show()"
   ]
  },
  {
   "cell_type": "code",
   "execution_count": null,
   "metadata": {
    "scrolled": true
   },
   "outputs": [],
   "source": [
    "t0 = time.time()\n",
    "t15 = pre_compute_tree(df, random_forest, depth = 15)\n",
    "time_t15 = time.time() - t0"
   ]
  },
  {
   "cell_type": "code",
   "execution_count": null,
   "metadata": {
    "scrolled": true
   },
   "outputs": [],
   "source": [
    "tree15_times = []\n",
    "for k in range(50):\n",
    "    t0 = time.time()\n",
    "    random_questions(df, random_forest, display = False, tree = t15)\n",
    "    tree15_times.append(time.time() - t0)\n",
    "    print(k)"
   ]
  },
  {
   "cell_type": "code",
   "execution_count": null,
   "metadata": {},
   "outputs": [],
   "source": [
    "plt.bar([\"No tree\", \"Depth 5 tree\", \"Depth 10 tree\", \"Depth 15 tree\"], [np.mean(notree_times), np.mean(tree5_times), np.mean(tree10_times), np.mean(tree15_times)], color = ['b','g','r','y'])\n",
    "plt.title(\"Average question sequence time with RF for a 226 tags database\")\n",
    "plt.show()"
   ]
  },
  {
   "cell_type": "code",
   "execution_count": null,
   "metadata": {},
   "outputs": [],
   "source": [
    "plt.bar([\"Depth 5 tree\", \"Depth 10 tree\", \"Depth 15 tree\"], [time_t5, time_t10, time_t15], color = ['g','r','y'])\n",
    "plt.title(\"Average tree computation time with RF for a 226 tags database\")\n",
    "plt.show()"
   ]
  },
  {
   "cell_type": "code",
   "execution_count": null,
   "metadata": {},
   "outputs": [],
   "source": []
  },
  {
   "cell_type": "code",
   "execution_count": null,
   "metadata": {
    "scrolled": true
   },
   "outputs": [],
   "source": [
    "t0 = time.time()\n",
    "t20 = pre_compute_tree(df, random_forest, depth = 20)\n",
    "time_t20 = time.time() - t0"
   ]
  },
  {
   "cell_type": "code",
   "execution_count": null,
   "metadata": {},
   "outputs": [],
   "source": [
    "t0 = time.time()\n",
    "t25 = pre_compute_tree(df, random_forest, depth = 25)\n",
    "time_t25 = time.time() - t0"
   ]
  },
  {
   "cell_type": "code",
   "execution_count": null,
   "metadata": {},
   "outputs": [],
   "source": [
    "plt.bar([\"Depth 5\", \"Depth 10\", \"Depth 15\", \"Depth 20\", \"Depth 25\"], [time_t5, time_t10, time_t15, time_t20, time_t25], color = ['g','b','c','y','r'])\n",
    "plt.title(\"Average tree computation time with RF for a 226 tags database\")\n",
    "plt.show()"
   ]
  },
  {
   "cell_type": "code",
   "execution_count": null,
   "metadata": {},
   "outputs": [],
   "source": [
    "tree20_times = []\n",
    "for k in range(20):\n",
    "    t0 = time.time()\n",
    "    random_questions(df, random_forest, display = False, tree = t20)\n",
    "    tree20_times.append(time.time() - t0)\n",
    "    print(k)"
   ]
  },
  {
   "cell_type": "code",
   "execution_count": null,
   "metadata": {},
   "outputs": [],
   "source": [
    "tree25_times = []\n",
    "for k in range(20):\n",
    "    t0 = time.time()\n",
    "    random_questions(df, random_forest, display = False, tree = t25)\n",
    "    tree25_times.append(time.time() - t0)\n",
    "    print(k)"
   ]
  },
  {
   "cell_type": "code",
   "execution_count": null,
   "metadata": {},
   "outputs": [],
   "source": [
    "plt.bar([\"No tree\", \"Depth 5\", \"Depth 10\", \"Depth 15\", \"Depth 20\", \"Depth 25\"], [np.mean(notree_times), np.mean(tree5_times), np.mean(tree10_times), np.mean(tree15_times), np.mean(tree20_times), np.mean(tree25_times)], color = ['g','b','c','y','k',\"r\"])\n",
    "plt.title(\"Average question sequence time with RF for a 226 tags database\")\n",
    "plt.show()"
   ]
  },
  {
   "cell_type": "code",
   "execution_count": 3,
   "metadata": {},
   "outputs": [],
   "source": [
    "a = 5555424000 - 2673655000"
   ]
  },
  {
   "cell_type": "code",
   "execution_count": 6,
   "metadata": {},
   "outputs": [
    {
     "data": {
      "text/plain": [
       "32.01965555555556"
      ]
     },
     "execution_count": 6,
     "metadata": {},
     "output_type": "execute_result"
    }
   ],
   "source": [
    "a / (90*1e6)"
   ]
  },
  {
   "cell_type": "code",
   "execution_count": 15,
   "metadata": {},
   "outputs": [],
   "source": [
    "import numpy as np\n",
    "import random as rd\n",
    "import matplotlib.pyplot as plt"
   ]
  },
  {
   "cell_type": "code",
   "execution_count": 21,
   "metadata": {},
   "outputs": [],
   "source": [
    "t = np.zeros(16000)"
   ]
  },
  {
   "cell_type": "code",
   "execution_count": 24,
   "metadata": {},
   "outputs": [],
   "source": [
    "for _ in range(300):\n",
    "    t[rd.randint(0,t.size)] += 1"
   ]
  },
  {
   "cell_type": "code",
   "execution_count": 25,
   "metadata": {},
   "outputs": [
    {
     "data": {
      "image/png": "[encoded data removed]",
      "text/plain": [
       "<Figure size 432x288 with 1 Axes>"
      ]
     },
     "metadata": {
      "needs_background": "light"
     },
     "output_type": "display_data"
    }
   ],
   "source": [
    "plt.hist(t)\n",
    "plt.show()"
   ]
  },
  {
   "cell_type": "code",
   "execution_count": 26,
   "metadata": {},
   "outputs": [],
   "source": [
    "t1 = [e for e in t if e > 0]"
   ]
  },
  {
   "cell_type": "code",
   "execution_count": 27,
   "metadata": {},
   "outputs": [
    {
     "data": {
      "image/png": "[encoded data removed]",
      "text/plain": [
       "<Figure size 432x288 with 1 Axes>"
      ]
     },
     "metadata": {
      "needs_background": "light"
     },
     "output_type": "display_data"
    }
   ],
   "source": [
    "plt.hist(t1)\n",
    "plt.show()"
   ]
  },
  {
   "cell_type": "code",
   "execution_count": null,
   "metadata": {},
   "outputs": [],
   "source": []
  }
 ],
 "metadata": {
  "kernelspec": {
   "display_name": "Python 3",
   "language": "python",
   "name": "python3"
  },
  "language_info": {
   "codemirror_mode": {
    "name": "ipython",
    "version": 3
   },
   "file_extension": ".py",
   "mimetype": "text/x-python",
   "name": "python",
   "nbconvert_exporter": "python",
   "pygments_lexer": "ipython3",
   "version": "3.7.6"
  }
 },
 "nbformat": 4,
 "nbformat_minor": 4
}
